{
  "nbformat": 4,
  "nbformat_minor": 0,
  "metadata": {
    "colab": {
      "provenance": []
    },
    "kernelspec": {
      "name": "python3",
      "display_name": "Python 3"
    },
    "language_info": {
      "name": "python"
    }
  },
  "cells": [
    {
      "cell_type": "code",
      "execution_count": null,
      "metadata": {
        "colab": {
          "base_uri": "https://localhost:8080/"
        },
        "id": "FsPFATQXH4O0",
        "outputId": "a5cbf0a1-c4df-4a46-fcc8-22007c4cac02"
      },
      "outputs": [
        {
          "output_type": "stream",
          "name": "stdout",
          "text": [
            "Collecting mglearn\n",
            "  Downloading mglearn-0.2.0-py2.py3-none-any.whl (581 kB)\n",
            "\u001b[2K     \u001b[90m━━━━━━━━━━━━━━━━━━━━━━━━━━━━━━━━━━━━━━━━\u001b[0m \u001b[32m581.4/581.4 kB\u001b[0m \u001b[31m3.7 MB/s\u001b[0m eta \u001b[36m0:00:00\u001b[0m\n",
            "\u001b[?25hRequirement already satisfied: numpy in /usr/local/lib/python3.10/dist-packages (from mglearn) (1.25.2)\n",
            "Requirement already satisfied: matplotlib in /usr/local/lib/python3.10/dist-packages (from mglearn) (3.7.1)\n",
            "Requirement already satisfied: scikit-learn in /usr/local/lib/python3.10/dist-packages (from mglearn) (1.2.2)\n",
            "Requirement already satisfied: pandas in /usr/local/lib/python3.10/dist-packages (from mglearn) (1.5.3)\n",
            "Requirement already satisfied: pillow in /usr/local/lib/python3.10/dist-packages (from mglearn) (9.4.0)\n",
            "Requirement already satisfied: cycler in /usr/local/lib/python3.10/dist-packages (from mglearn) (0.12.1)\n",
            "Requirement already satisfied: imageio in /usr/local/lib/python3.10/dist-packages (from mglearn) (2.31.6)\n",
            "Requirement already satisfied: joblib in /usr/local/lib/python3.10/dist-packages (from mglearn) (1.3.2)\n",
            "Requirement already satisfied: contourpy>=1.0.1 in /usr/local/lib/python3.10/dist-packages (from matplotlib->mglearn) (1.2.0)\n",
            "Requirement already satisfied: fonttools>=4.22.0 in /usr/local/lib/python3.10/dist-packages (from matplotlib->mglearn) (4.50.0)\n",
            "Requirement already satisfied: kiwisolver>=1.0.1 in /usr/local/lib/python3.10/dist-packages (from matplotlib->mglearn) (1.4.5)\n",
            "Requirement already satisfied: packaging>=20.0 in /usr/local/lib/python3.10/dist-packages (from matplotlib->mglearn) (24.0)\n",
            "Requirement already satisfied: pyparsing>=2.3.1 in /usr/local/lib/python3.10/dist-packages (from matplotlib->mglearn) (3.1.2)\n",
            "Requirement already satisfied: python-dateutil>=2.7 in /usr/local/lib/python3.10/dist-packages (from matplotlib->mglearn) (2.8.2)\n",
            "Requirement already satisfied: pytz>=2020.1 in /usr/local/lib/python3.10/dist-packages (from pandas->mglearn) (2023.4)\n",
            "Requirement already satisfied: scipy>=1.3.2 in /usr/local/lib/python3.10/dist-packages (from scikit-learn->mglearn) (1.11.4)\n",
            "Requirement already satisfied: threadpoolctl>=2.0.0 in /usr/local/lib/python3.10/dist-packages (from scikit-learn->mglearn) (3.3.0)\n",
            "Requirement already satisfied: six>=1.5 in /usr/local/lib/python3.10/dist-packages (from python-dateutil>=2.7->matplotlib->mglearn) (1.16.0)\n",
            "Installing collected packages: mglearn\n",
            "Successfully installed mglearn-0.2.0\n"
          ]
        }
      ],
      "source": [
        "import pandas as pd\n",
        "import numpy as np\n",
        "from scipy import stats\n",
        "import os\n",
        "!pip install mglearn\n",
        "import mglearn\n",
        "\n",
        "import matplotlib.pylab as plt\n",
        "%matplotlib inline\n",
        "from matplotlib.pylab import rcParams\n",
        "rcParams['figure.figsize'] = 12, 7\n",
        "\n",
        "from sklearn.naive_bayes import GaussianNB\n",
        "from sklearn.linear_model import LogisticRegression\n",
        "from sklearn.ensemble import GradientBoostingClassifier\n",
        "from sklearn.svm import SVC\n",
        "\n",
        "from sklearn.impute import SimpleImputer\n",
        "from sklearn.preprocessing import PolynomialFeatures\n",
        "from sklearn.preprocessing import StandardScaler\n",
        "from sklearn.preprocessing import MinMaxScaler\n",
        "\n",
        "from sklearn.utils import resample\n",
        "from imblearn.over_sampling import SMOTE\n",
        "\n",
        "from sklearn.model_selection import GridSearchCV\n",
        "from sklearn.model_selection import cross_val_score\n",
        "from sklearn.model_selection import train_test_split\n",
        "from sklearn.feature_selection import SelectPercentile\n",
        "\n",
        "from sklearn.metrics import classification_report\n",
        "from sklearn.metrics import average_precision_score\n",
        "from sklearn.metrics import precision_recall_curve\n",
        "from sklearn.metrics import confusion_matrix\n",
        "from sklearn.metrics import roc_curve\n",
        "\n",
        "from sklearn.tree import export_graphviz\n",
        "import graphviz\n",
        "from sklearn.pipeline import make_pipeline\n",
        "\n",
        "import tensorflow as tf\n",
        "from tensorflow.python.keras.models import Model, Sequential\n",
        "from tensorflow.python.keras import layers\n",
        "from tensorflow.keras.utils import plot_model\n",
        "#!pip install --upgrade tensorflow\n",
        "#from tensorflow.keras.wrappers.scikit_learn import KerasClassifier"
      ]
    },
    {
      "cell_type": "code",
      "source": [
        "curr_table=pd.read_csv(\"5th_yr.csv\")\n",
        "curr_table=curr_table.set_index(\"Id\")\n",
        "curr_table.head()"
      ],
      "metadata": {
        "colab": {
          "base_uri": "https://localhost:8080/",
          "height": 287
        },
        "id": "OaKdrwSFIYqx",
        "outputId": "492f3e33-3eb6-4a4a-9944-df963c426b97"
      },
      "execution_count": null,
      "outputs": [
        {
          "output_type": "execute_result",
          "data": {
            "text/plain": [
              "            X1       X2        X3      X4       X5       X6        X7  \\\n",
              "Id                                                                      \n",
              "1188   0.30019  0.13293   0.38325  3.8831   89.916  0.86116   0.37196   \n",
              "1654  0.089987  0.56987  0.097846  6.3579    54.84        0   0.10076   \n",
              "3864   0.13392  0.12496   0.63756  6.2914   112.91  0.34113   0.16677   \n",
              "3578  0.019501   0.7923  0.008121  1.0177  -54.871        0  0.023128   \n",
              "2028   0.19983  0.33871   0.91824  23.042   32.034        0   0.24716   \n",
              "\n",
              "           X8       X9      X10  ...       X56      X57      X58       X59  \\\n",
              "Id                               ...                                         \n",
              "1188   6.2473   1.3258  0.83044  ...  0.245720  0.36148  0.75428         0   \n",
              "1654  0.75477  0.78787  0.43012  ...  0.104040  0.20921  0.88032    1.2791   \n",
              "3864   6.7318   1.1352  0.84119  ...  0.119080   0.1592  0.88092  0.005311   \n",
              "3578  0.26215    1.705   0.2077  ...  0.045674  0.09389  0.98657     1.453   \n",
              "2028   1.9524   4.8863  0.66129  ...  0.062723  0.30218  0.94944   0.44868   \n",
              "\n",
              "         X60     X61      X62     X63      X64  Bankrupt  \n",
              "Id                                                        \n",
              "1188  13.076  6.5019  32.5990  11.196   3.0762         0  \n",
              "1654       ?   7.997   8.4604  43.142  0.89136         0  \n",
              "3864  4.1466  6.2483  35.4520  10.296   5.1271         0  \n",
              "3578  6.9627  8.7576  98.4780  3.7064   3.2056         0  \n",
              "2028  9.5699   12.39   3.1118   117.3   121.84         0  \n",
              "\n",
              "[5 rows x 65 columns]"
            ],
            "text/html": [
              "\n",
              "  <div id=\"df-cb5fbb7c-72ca-4485-a7d6-1dfca7318767\" class=\"colab-df-container\">\n",
              "    <div>\n",
              "<style scoped>\n",
              "    .dataframe tbody tr th:only-of-type {\n",
              "        vertical-align: middle;\n",
              "    }\n",
              "\n",
              "    .dataframe tbody tr th {\n",
              "        vertical-align: top;\n",
              "    }\n",
              "\n",
              "    .dataframe thead th {\n",
              "        text-align: right;\n",
              "    }\n",
              "</style>\n",
              "<table border=\"1\" class=\"dataframe\">\n",
              "  <thead>\n",
              "    <tr style=\"text-align: right;\">\n",
              "      <th></th>\n",
              "      <th>X1</th>\n",
              "      <th>X2</th>\n",
              "      <th>X3</th>\n",
              "      <th>X4</th>\n",
              "      <th>X5</th>\n",
              "      <th>X6</th>\n",
              "      <th>X7</th>\n",
              "      <th>X8</th>\n",
              "      <th>X9</th>\n",
              "      <th>X10</th>\n",
              "      <th>...</th>\n",
              "      <th>X56</th>\n",
              "      <th>X57</th>\n",
              "      <th>X58</th>\n",
              "      <th>X59</th>\n",
              "      <th>X60</th>\n",
              "      <th>X61</th>\n",
              "      <th>X62</th>\n",
              "      <th>X63</th>\n",
              "      <th>X64</th>\n",
              "      <th>Bankrupt</th>\n",
              "    </tr>\n",
              "    <tr>\n",
              "      <th>Id</th>\n",
              "      <th></th>\n",
              "      <th></th>\n",
              "      <th></th>\n",
              "      <th></th>\n",
              "      <th></th>\n",
              "      <th></th>\n",
              "      <th></th>\n",
              "      <th></th>\n",
              "      <th></th>\n",
              "      <th></th>\n",
              "      <th></th>\n",
              "      <th></th>\n",
              "      <th></th>\n",
              "      <th></th>\n",
              "      <th></th>\n",
              "      <th></th>\n",
              "      <th></th>\n",
              "      <th></th>\n",
              "      <th></th>\n",
              "      <th></th>\n",
              "      <th></th>\n",
              "    </tr>\n",
              "  </thead>\n",
              "  <tbody>\n",
              "    <tr>\n",
              "      <th>1188</th>\n",
              "      <td>0.30019</td>\n",
              "      <td>0.13293</td>\n",
              "      <td>0.38325</td>\n",
              "      <td>3.8831</td>\n",
              "      <td>89.916</td>\n",
              "      <td>0.86116</td>\n",
              "      <td>0.37196</td>\n",
              "      <td>6.2473</td>\n",
              "      <td>1.3258</td>\n",
              "      <td>0.83044</td>\n",
              "      <td>...</td>\n",
              "      <td>0.245720</td>\n",
              "      <td>0.36148</td>\n",
              "      <td>0.75428</td>\n",
              "      <td>0</td>\n",
              "      <td>13.076</td>\n",
              "      <td>6.5019</td>\n",
              "      <td>32.5990</td>\n",
              "      <td>11.196</td>\n",
              "      <td>3.0762</td>\n",
              "      <td>0</td>\n",
              "    </tr>\n",
              "    <tr>\n",
              "      <th>1654</th>\n",
              "      <td>0.089987</td>\n",
              "      <td>0.56987</td>\n",
              "      <td>0.097846</td>\n",
              "      <td>6.3579</td>\n",
              "      <td>54.84</td>\n",
              "      <td>0</td>\n",
              "      <td>0.10076</td>\n",
              "      <td>0.75477</td>\n",
              "      <td>0.78787</td>\n",
              "      <td>0.43012</td>\n",
              "      <td>...</td>\n",
              "      <td>0.104040</td>\n",
              "      <td>0.20921</td>\n",
              "      <td>0.88032</td>\n",
              "      <td>1.2791</td>\n",
              "      <td>?</td>\n",
              "      <td>7.997</td>\n",
              "      <td>8.4604</td>\n",
              "      <td>43.142</td>\n",
              "      <td>0.89136</td>\n",
              "      <td>0</td>\n",
              "    </tr>\n",
              "    <tr>\n",
              "      <th>3864</th>\n",
              "      <td>0.13392</td>\n",
              "      <td>0.12496</td>\n",
              "      <td>0.63756</td>\n",
              "      <td>6.2914</td>\n",
              "      <td>112.91</td>\n",
              "      <td>0.34113</td>\n",
              "      <td>0.16677</td>\n",
              "      <td>6.7318</td>\n",
              "      <td>1.1352</td>\n",
              "      <td>0.84119</td>\n",
              "      <td>...</td>\n",
              "      <td>0.119080</td>\n",
              "      <td>0.1592</td>\n",
              "      <td>0.88092</td>\n",
              "      <td>0.005311</td>\n",
              "      <td>4.1466</td>\n",
              "      <td>6.2483</td>\n",
              "      <td>35.4520</td>\n",
              "      <td>10.296</td>\n",
              "      <td>5.1271</td>\n",
              "      <td>0</td>\n",
              "    </tr>\n",
              "    <tr>\n",
              "      <th>3578</th>\n",
              "      <td>0.019501</td>\n",
              "      <td>0.7923</td>\n",
              "      <td>0.008121</td>\n",
              "      <td>1.0177</td>\n",
              "      <td>-54.871</td>\n",
              "      <td>0</td>\n",
              "      <td>0.023128</td>\n",
              "      <td>0.26215</td>\n",
              "      <td>1.705</td>\n",
              "      <td>0.2077</td>\n",
              "      <td>...</td>\n",
              "      <td>0.045674</td>\n",
              "      <td>0.09389</td>\n",
              "      <td>0.98657</td>\n",
              "      <td>1.453</td>\n",
              "      <td>6.9627</td>\n",
              "      <td>8.7576</td>\n",
              "      <td>98.4780</td>\n",
              "      <td>3.7064</td>\n",
              "      <td>3.2056</td>\n",
              "      <td>0</td>\n",
              "    </tr>\n",
              "    <tr>\n",
              "      <th>2028</th>\n",
              "      <td>0.19983</td>\n",
              "      <td>0.33871</td>\n",
              "      <td>0.91824</td>\n",
              "      <td>23.042</td>\n",
              "      <td>32.034</td>\n",
              "      <td>0</td>\n",
              "      <td>0.24716</td>\n",
              "      <td>1.9524</td>\n",
              "      <td>4.8863</td>\n",
              "      <td>0.66129</td>\n",
              "      <td>...</td>\n",
              "      <td>0.062723</td>\n",
              "      <td>0.30218</td>\n",
              "      <td>0.94944</td>\n",
              "      <td>0.44868</td>\n",
              "      <td>9.5699</td>\n",
              "      <td>12.39</td>\n",
              "      <td>3.1118</td>\n",
              "      <td>117.3</td>\n",
              "      <td>121.84</td>\n",
              "      <td>0</td>\n",
              "    </tr>\n",
              "  </tbody>\n",
              "</table>\n",
              "<p>5 rows × 65 columns</p>\n",
              "</div>\n",
              "    <div class=\"colab-df-buttons\">\n",
              "\n",
              "  <div class=\"colab-df-container\">\n",
              "    <button class=\"colab-df-convert\" onclick=\"convertToInteractive('df-cb5fbb7c-72ca-4485-a7d6-1dfca7318767')\"\n",
              "            title=\"Convert this dataframe to an interactive table.\"\n",
              "            style=\"display:none;\">\n",
              "\n",
              "  <svg xmlns=\"http://www.w3.org/2000/svg\" height=\"24px\" viewBox=\"0 -960 960 960\">\n",
              "    <path d=\"M120-120v-720h720v720H120Zm60-500h600v-160H180v160Zm220 220h160v-160H400v160Zm0 220h160v-160H400v160ZM180-400h160v-160H180v160Zm440 0h160v-160H620v160ZM180-180h160v-160H180v160Zm440 0h160v-160H620v160Z\"/>\n",
              "  </svg>\n",
              "    </button>\n",
              "\n",
              "  <style>\n",
              "    .colab-df-container {\n",
              "      display:flex;\n",
              "      gap: 12px;\n",
              "    }\n",
              "\n",
              "    .colab-df-convert {\n",
              "      background-color: #E8F0FE;\n",
              "      border: none;\n",
              "      border-radius: 50%;\n",
              "      cursor: pointer;\n",
              "      display: none;\n",
              "      fill: #1967D2;\n",
              "      height: 32px;\n",
              "      padding: 0 0 0 0;\n",
              "      width: 32px;\n",
              "    }\n",
              "\n",
              "    .colab-df-convert:hover {\n",
              "      background-color: #E2EBFA;\n",
              "      box-shadow: 0px 1px 2px rgba(60, 64, 67, 0.3), 0px 1px 3px 1px rgba(60, 64, 67, 0.15);\n",
              "      fill: #174EA6;\n",
              "    }\n",
              "\n",
              "    .colab-df-buttons div {\n",
              "      margin-bottom: 4px;\n",
              "    }\n",
              "\n",
              "    [theme=dark] .colab-df-convert {\n",
              "      background-color: #3B4455;\n",
              "      fill: #D2E3FC;\n",
              "    }\n",
              "\n",
              "    [theme=dark] .colab-df-convert:hover {\n",
              "      background-color: #434B5C;\n",
              "      box-shadow: 0px 1px 3px 1px rgba(0, 0, 0, 0.15);\n",
              "      filter: drop-shadow(0px 1px 2px rgba(0, 0, 0, 0.3));\n",
              "      fill: #FFFFFF;\n",
              "    }\n",
              "  </style>\n",
              "\n",
              "    <script>\n",
              "      const buttonEl =\n",
              "        document.querySelector('#df-cb5fbb7c-72ca-4485-a7d6-1dfca7318767 button.colab-df-convert');\n",
              "      buttonEl.style.display =\n",
              "        google.colab.kernel.accessAllowed ? 'block' : 'none';\n",
              "\n",
              "      async function convertToInteractive(key) {\n",
              "        const element = document.querySelector('#df-cb5fbb7c-72ca-4485-a7d6-1dfca7318767');\n",
              "        const dataTable =\n",
              "          await google.colab.kernel.invokeFunction('convertToInteractive',\n",
              "                                                    [key], {});\n",
              "        if (!dataTable) return;\n",
              "\n",
              "        const docLinkHtml = 'Like what you see? Visit the ' +\n",
              "          '<a target=\"_blank\" href=https://colab.research.google.com/notebooks/data_table.ipynb>data table notebook</a>'\n",
              "          + ' to learn more about interactive tables.';\n",
              "        element.innerHTML = '';\n",
              "        dataTable['output_type'] = 'display_data';\n",
              "        await google.colab.output.renderOutput(dataTable, element);\n",
              "        const docLink = document.createElement('div');\n",
              "        docLink.innerHTML = docLinkHtml;\n",
              "        element.appendChild(docLink);\n",
              "      }\n",
              "    </script>\n",
              "  </div>\n",
              "\n",
              "\n",
              "<div id=\"df-18fba3a6-8d8e-490e-84c0-91e83e1a3fa7\">\n",
              "  <button class=\"colab-df-quickchart\" onclick=\"quickchart('df-18fba3a6-8d8e-490e-84c0-91e83e1a3fa7')\"\n",
              "            title=\"Suggest charts\"\n",
              "            style=\"display:none;\">\n",
              "\n",
              "<svg xmlns=\"http://www.w3.org/2000/svg\" height=\"24px\"viewBox=\"0 0 24 24\"\n",
              "     width=\"24px\">\n",
              "    <g>\n",
              "        <path d=\"M19 3H5c-1.1 0-2 .9-2 2v14c0 1.1.9 2 2 2h14c1.1 0 2-.9 2-2V5c0-1.1-.9-2-2-2zM9 17H7v-7h2v7zm4 0h-2V7h2v10zm4 0h-2v-4h2v4z\"/>\n",
              "    </g>\n",
              "</svg>\n",
              "  </button>\n",
              "\n",
              "<style>\n",
              "  .colab-df-quickchart {\n",
              "      --bg-color: #E8F0FE;\n",
              "      --fill-color: #1967D2;\n",
              "      --hover-bg-color: #E2EBFA;\n",
              "      --hover-fill-color: #174EA6;\n",
              "      --disabled-fill-color: #AAA;\n",
              "      --disabled-bg-color: #DDD;\n",
              "  }\n",
              "\n",
              "  [theme=dark] .colab-df-quickchart {\n",
              "      --bg-color: #3B4455;\n",
              "      --fill-color: #D2E3FC;\n",
              "      --hover-bg-color: #434B5C;\n",
              "      --hover-fill-color: #FFFFFF;\n",
              "      --disabled-bg-color: #3B4455;\n",
              "      --disabled-fill-color: #666;\n",
              "  }\n",
              "\n",
              "  .colab-df-quickchart {\n",
              "    background-color: var(--bg-color);\n",
              "    border: none;\n",
              "    border-radius: 50%;\n",
              "    cursor: pointer;\n",
              "    display: none;\n",
              "    fill: var(--fill-color);\n",
              "    height: 32px;\n",
              "    padding: 0;\n",
              "    width: 32px;\n",
              "  }\n",
              "\n",
              "  .colab-df-quickchart:hover {\n",
              "    background-color: var(--hover-bg-color);\n",
              "    box-shadow: 0 1px 2px rgba(60, 64, 67, 0.3), 0 1px 3px 1px rgba(60, 64, 67, 0.15);\n",
              "    fill: var(--button-hover-fill-color);\n",
              "  }\n",
              "\n",
              "  .colab-df-quickchart-complete:disabled,\n",
              "  .colab-df-quickchart-complete:disabled:hover {\n",
              "    background-color: var(--disabled-bg-color);\n",
              "    fill: var(--disabled-fill-color);\n",
              "    box-shadow: none;\n",
              "  }\n",
              "\n",
              "  .colab-df-spinner {\n",
              "    border: 2px solid var(--fill-color);\n",
              "    border-color: transparent;\n",
              "    border-bottom-color: var(--fill-color);\n",
              "    animation:\n",
              "      spin 1s steps(1) infinite;\n",
              "  }\n",
              "\n",
              "  @keyframes spin {\n",
              "    0% {\n",
              "      border-color: transparent;\n",
              "      border-bottom-color: var(--fill-color);\n",
              "      border-left-color: var(--fill-color);\n",
              "    }\n",
              "    20% {\n",
              "      border-color: transparent;\n",
              "      border-left-color: var(--fill-color);\n",
              "      border-top-color: var(--fill-color);\n",
              "    }\n",
              "    30% {\n",
              "      border-color: transparent;\n",
              "      border-left-color: var(--fill-color);\n",
              "      border-top-color: var(--fill-color);\n",
              "      border-right-color: var(--fill-color);\n",
              "    }\n",
              "    40% {\n",
              "      border-color: transparent;\n",
              "      border-right-color: var(--fill-color);\n",
              "      border-top-color: var(--fill-color);\n",
              "    }\n",
              "    60% {\n",
              "      border-color: transparent;\n",
              "      border-right-color: var(--fill-color);\n",
              "    }\n",
              "    80% {\n",
              "      border-color: transparent;\n",
              "      border-right-color: var(--fill-color);\n",
              "      border-bottom-color: var(--fill-color);\n",
              "    }\n",
              "    90% {\n",
              "      border-color: transparent;\n",
              "      border-bottom-color: var(--fill-color);\n",
              "    }\n",
              "  }\n",
              "</style>\n",
              "\n",
              "  <script>\n",
              "    async function quickchart(key) {\n",
              "      const quickchartButtonEl =\n",
              "        document.querySelector('#' + key + ' button');\n",
              "      quickchartButtonEl.disabled = true;  // To prevent multiple clicks.\n",
              "      quickchartButtonEl.classList.add('colab-df-spinner');\n",
              "      try {\n",
              "        const charts = await google.colab.kernel.invokeFunction(\n",
              "            'suggestCharts', [key], {});\n",
              "      } catch (error) {\n",
              "        console.error('Error during call to suggestCharts:', error);\n",
              "      }\n",
              "      quickchartButtonEl.classList.remove('colab-df-spinner');\n",
              "      quickchartButtonEl.classList.add('colab-df-quickchart-complete');\n",
              "    }\n",
              "    (() => {\n",
              "      let quickchartButtonEl =\n",
              "        document.querySelector('#df-18fba3a6-8d8e-490e-84c0-91e83e1a3fa7 button');\n",
              "      quickchartButtonEl.style.display =\n",
              "        google.colab.kernel.accessAllowed ? 'block' : 'none';\n",
              "    })();\n",
              "  </script>\n",
              "</div>\n",
              "\n",
              "    </div>\n",
              "  </div>\n"
            ],
            "application/vnd.google.colaboratory.intrinsic+json": {
              "type": "dataframe",
              "variable_name": "curr_table"
            }
          },
          "metadata": {},
          "execution_count": 2
        }
      ]
    },
    {
      "cell_type": "code",
      "source": [
        "curr_table.replace('?', np.nan, inplace = True)\n",
        "curr_table.iloc[:, :-1] = curr_table.iloc[:, :-1].astype(np.float64)\n",
        "\n",
        "# fill missing value with median\n",
        "imp_mean = SimpleImputer(missing_values=np.nan, strategy='median')\n",
        "curr_table.loc[:, curr_table.columns!='Bankrupt'] = imp_mean.fit_transform(curr_table.loc[:, curr_table.columns!='Bankrupt'])\n"
      ],
      "metadata": {
        "colab": {
          "base_uri": "https://localhost:8080/"
        },
        "id": "nN3e9hKDJcvQ",
        "outputId": "0bdf69c2-cd65-416d-a94f-857690fc4886"
      },
      "execution_count": null,
      "outputs": [
        {
          "output_type": "stream",
          "name": "stderr",
          "text": [
            "<ipython-input-3-b7d5b6ac4370>:2: DeprecationWarning: In a future version, `df.iloc[:, i] = newvals` will attempt to set the values inplace instead of always setting a new array. To retain the old behavior, use either `df[df.columns[i]] = newvals` or, if columns are non-unique, `df.isetitem(i, newvals)`\n",
            "  curr_table.iloc[:, :-1] = curr_table.iloc[:, :-1].astype(np.float64)\n"
          ]
        }
      ]
    },
    {
      "cell_type": "code",
      "source": [
        "train_describe_std =curr_table.describe().loc['std',:]\n",
        "extreme_cols = train_describe_std[train_describe_std>10000].index.values\n",
        "regular_cols = [col for col in curr_table.columns[:-1] if col not in extreme_cols]"
      ],
      "metadata": {
        "id": "dmNa4TjoKevJ"
      },
      "execution_count": null,
      "outputs": []
    },
    {
      "cell_type": "code",
      "source": [
        "curr_table.loc[:,extreme_cols].boxplot()"
      ],
      "metadata": {
        "colab": {
          "base_uri": "https://localhost:8080/",
          "height": 549
        },
        "id": "xfcak4jURm7J",
        "outputId": "af2943eb-8938-4bf3-a5bf-5f80e573fef0"
      },
      "execution_count": null,
      "outputs": [
        {
          "output_type": "execute_result",
          "data": {
            "text/plain": [
              "<Axes: >"
            ]
          },
          "metadata": {},
          "execution_count": 5
        },
        {
          "output_type": "display_data",
          "data": {
            "text/plain": [
              "<Figure size 1200x700 with 1 Axes>"
            ],
            "image/png": "[encoded data removed]"
          },
          "metadata": {}
        }
      ]
    },
    {
      "cell_type": "code",
      "source": [
        "curr_table.loc[:, regular_cols].boxplot()"
      ],
      "metadata": {
        "colab": {
          "base_uri": "https://localhost:8080/",
          "height": 524
        },
        "id": "OFMR3O8CRxsK",
        "outputId": "3abba7a7-143f-464e-a5bc-a41ea3cd47c3"
      },
      "execution_count": null,
      "outputs": [
        {
          "output_type": "execute_result",
          "data": {
            "text/plain": [
              "<Axes: >"
            ]
          },
          "metadata": {},
          "execution_count": 6
        },
        {
          "output_type": "display_data",
          "data": {
            "text/plain": [
              "<Figure size 1200x700 with 1 Axes>"
            ],
            "image/png": "[encoded data removed]"
          },
          "metadata": {}
        }
      ]
    },
    {
      "cell_type": "code",
      "source": [
        "plt.hist(curr_table.iloc[:,-1])"
      ],
      "metadata": {
        "colab": {
          "base_uri": "https://localhost:8080/",
          "height": 588
        },
        "id": "XhmfbOVSR12x",
        "outputId": "97a31bd6-50fd-4186-f62b-46e741e0d235"
      },
      "execution_count": null,
      "outputs": [
        {
          "output_type": "execute_result",
          "data": {
            "text/plain": [
              "(array([4510.,    0.,    0.,    0.,    0.,    0.,    0.,    0.,    0.,\n",
              "         308.]),\n",
              " array([0. , 0.1, 0.2, 0.3, 0.4, 0.5, 0.6, 0.7, 0.8, 0.9, 1. ]),\n",
              " <BarContainer object of 10 artists>)"
            ]
          },
          "metadata": {},
          "execution_count": 7
        },
        {
          "output_type": "display_data",
          "data": {
            "text/plain": [
              "<Figure size 1200x700 with 1 Axes>"
            ],
            "image/png": "[encoded data removed]"
          },
          "metadata": {}
        }
      ]
    },
    {
      "cell_type": "code",
      "source": [
        "def drop_numerical_outliers(df, z_thresh=3):\n",
        "    print('Before dropping outliers: ', df.shape)\n",
        "    # Constrains will contain `True` or `False` depending on if it is a value below the threshold.\n",
        "    constrains = df.iloc[:,:-1].select_dtypes(include=[np.number]) \\\n",
        "        .apply(lambda x: np.abs(stats.zscore(x)) < z_thresh, reduce=False) \\\n",
        "        .all(axis=1)\n",
        "    # Drop (inplace) values set to be rejected\n",
        "    df.drop(df.index[~constrains], inplace=True)\n",
        "    print('After dropping outliers: ', df.shape)"
      ],
      "metadata": {
        "id": "C4X5T2NOSYyB"
      },
      "execution_count": null,
      "outputs": []
    },
    {
      "cell_type": "code",
      "source": [
        "\"\"\"\n",
        "  Need to split train test sets before upsampling\n",
        "  We only upsample train set\n",
        "  \"\"\"\n",
        "  def upsampling_minority(X, y):\n",
        "      # setting up testing and training sets\n",
        "      X_train, X_test, y_train, y_test = train_test_split(X, y, random_state=10)\n",
        "\n",
        "      print('Before upsampling: training data shape', X_train.shape, 'test data shape', X_test.shape)\n",
        "      print(\"Unbalanced training data{}\".format({n: v for n, v in zip(['Not Bankrupt', 'Bankrupt'], np.bincount(y_train))}))\n",
        "\n",
        "      sm = SMOTE(random_state=10)\n",
        "      X_train, y_train = sm.fit_resample(X_train, y_train)\n",
        "\n",
        "      print('Finished upsampling: training data shape', X_train.shape, 'test data shape', X_test.shape)\n",
        "      print(\"Balanced training data {}\".format({n: v for n, v in zip(['Not Bankrupt', 'Bankrupt'], np.bincount(y_train))}))\n",
        "\n",
        "      return X_train, X_test, y_train, y_test"
      ],
      "metadata": {
        "id": "dLU5PkMHS8uu"
      },
      "execution_count": null,
      "outputs": []
    },
    {
      "cell_type": "code",
      "source": [
        "\"\"\"\n",
        "Plot test score heatmap of parameter sets\n",
        "\"\"\"\n",
        "def plot_heatmap(grid, params):\n",
        "    results = pd.DataFrame(grid.cv_results_)\n",
        "    keys = list(params.keys())\n",
        "    scores = np.array(results.mean_test_score).reshape(len(params[keys[1]]),\n",
        "                                                             len(params[keys[0]]))\n",
        "    plt.figure()\n",
        "    mglearn.tools.heatmap(scores, xlabel=keys[0], xticklabels=params[keys[0]],\n",
        "                          ylabel=keys[1], yticklabels=params[keys[1]],\n",
        "                          cmap=\"viridis\", fmt='%0.5f')\n",
        "    plt.show()"
      ],
      "metadata": {
        "id": "HfFo2AiiTA-8"
      },
      "execution_count": null,
      "outputs": []
    },
    {
      "cell_type": "code",
      "source": [
        "\"\"\"\n",
        "Grid search for gradient boosting model\n",
        "\"\"\"\n",
        "def gbm_grid_search(original_gbm, X_train, y_train, score_method, show_plots, predictors):\n",
        "\n",
        "    # tune n_estimators, max_depth\n",
        "    param_trees = {'n_estimators': [i for i in range(10, 101, 30)],\n",
        "                  'max_depth': [i for i in range(2,6,1)]}\n",
        "    gsearch1 = GridSearchCV(estimator = original_gbm,\n",
        "                            param_grid = param_trees,\n",
        "                            scoring=score_method,\n",
        "                            n_jobs=-1,\n",
        "\n",
        "                            cv=5\n",
        "                           )\n",
        "    gsearch1.fit(X_train, y_train)\n",
        "    if show_plots:\n",
        "        print('Best parameters: ', gsearch1.best_params_)\n",
        "        plot_heatmap(gsearch1, param_trees)\n",
        "\n",
        "    # tune min_samples_split, min_samples_leaf\n",
        "    param_tree2 = {'min_samples_split': [i for i in range(10,51,20)],\n",
        "                  'min_samples_leaf': [i for i in range(10,51,20)]}\n",
        "    gsearch2 = GridSearchCV(estimator = gsearch1.best_estimator_,\n",
        "                            param_grid = param_tree2,\n",
        "                            scoring=score_method,\n",
        "                            n_jobs=-1,\n",
        "\n",
        "                            cv=5)\n",
        "    gsearch2.fit(X_train, y_train)\n",
        "    if show_plots:\n",
        "        print('Best parameters: ', gsearch2.best_params_)\n",
        "        plot_heatmap(gsearch2, param_tree2)\n",
        "\n",
        "    # tune learning_rate\n",
        "    n_estimator = gsearch1.best_params_['n_estimators']\n",
        "    param_tree3 = [{'learning_rate': [0.1],\n",
        "                  'n_estimators': [n_estimator]},\n",
        "                  {'learning_rate': [0.1*5],\n",
        "                  'n_estimators': [n_estimator//5]},\n",
        "                  {'learning_rate': [0.1/10],\n",
        "                  'n_estimators': [n_estimator*10]}]\n",
        "    gsearch3 = GridSearchCV(estimator = gsearch2.best_estimator_,\n",
        "                            param_grid = param_tree3,\n",
        "                            scoring=score_method,\n",
        "                            n_jobs=-1,\n",
        "\n",
        "                            cv=5)\n",
        "    gsearch3.fit(X_train, y_train)\n",
        "    print('Best score: ', gsearch3.best_score_)\n",
        "\n",
        "    # best estimator\n",
        "    gbm1 = gsearch3.best_estimator_\n",
        "\n",
        "    # plot result tree and feature importance\n",
        "    if show_plots:\n",
        "        print('Best parameters: ', gsearch3.best_params_)\n",
        "        #print('Show Tree:\\n')\n",
        "        #export_graphviz(gbm1.estimators_[0][0])\n",
        "        #with open(\"tree.dot\") as f:\n",
        "            #dot_graph = f.read()\n",
        "        #display(graphviz.Source(dot_graph))\n",
        "\n",
        "        print('Show Feature Importance:\\n')\n",
        "        feat_imp = pd.Series(data=gbm1.feature_importances_, index=predictors).sort_values(ascending=False)\n",
        "        plt.figure()\n",
        "        feat_imp.plot(kind='bar', title='Feature Importances')\n",
        "        plt.ylabel('Feature Importance Score')\n",
        "        plt.show()\n",
        "\n",
        "    return gbm1"
      ],
      "metadata": {
        "id": "73sntFa4TDow"
      },
      "execution_count": null,
      "outputs": []
    },
    {
      "cell_type": "code",
      "source": [
        "def MyModel(X_train, y_train, show_plots=True, score_method='recall'):\n",
        "\n",
        "    \"\"\"\n",
        "    Naive Bayes\n",
        "    \"\"\"\n",
        "    clf = GaussianNB()\n",
        "    clf.fit(X_train, y_train)\n",
        "    print('Finished training Naive Bayes...')\n",
        "\n",
        "    \"\"\"\n",
        "    Logistic Regression\n",
        "    \"\"\"\n",
        "    params_logit = {'polynomialfeatures__degree': [1, 2],\n",
        "               'selectpercentile__percentile': [50, 100],\n",
        "               'logisticregression__C': [0.01, 1, 100]}\n",
        "    pipe_logit = make_pipeline(PolynomialFeatures(include_bias=False),\n",
        "                               StandardScaler(), SelectPercentile(),\n",
        "                               LogisticRegression(max_iter=1000))\n",
        "    lsearch = GridSearchCV(estimator=pipe_logit,\n",
        "                           scoring='recall',\n",
        "                           param_grid=params_logit,\n",
        "                           cv=5,\n",
        "\n",
        "                           n_jobs=-1)\n",
        "    lsearch.fit(X_train, y_train)\n",
        "    lr = lsearch.best_estimator_\n",
        "    print('Finished training Logistic Regression...')\n",
        "\n",
        "    \"\"\"\n",
        "    Support Vector Machine\n",
        "    \"\"\"\n",
        "    params_svc = [{'svc__kernel' : ['rbf'],\n",
        "             'svc__gamma' : [0.01, 0.1, 1, 10, 100],\n",
        "             'svc__C' : [0.01, 0.1, 1, 10, 100]},\n",
        "             {'svc__kernel' : ['linear'],\n",
        "             'svc__C' : [0.01, 0.1, 1, 10, 100]}]\n",
        "    pipe_svc = make_pipeline(MinMaxScaler(), SVC()) # no need for polynomialfeatures\n",
        "    ssearch = GridSearchCV(estimator=pipe_svc,\n",
        "                           scoring='recall',\n",
        "                           param_grid=params_svc,\n",
        "                           cv=5,\n",
        "\n",
        "                           n_jobs=-1)\n",
        "    ssearch.fit(X_train, y_train)\n",
        "    svc = ssearch.best_estimator_\n",
        "    print('Finished training Support Vector Machine...')\n",
        "\n",
        "    \"\"\"\n",
        "    GBM\n",
        "    \"\"\"\n",
        "    gbm0 = GradientBoostingClassifier(random_state=10)\n",
        "    gbm0.fit(X_train, y_train)\n",
        "    gbm1 = gbm_grid_search(gbm0, X_train, y_train,\n",
        "                           score_method=score_method, show_plots=show_plots, predictors = X.columns)\n",
        "    print('Finished training Gradient Boosting...')\n",
        "\n",
        "    \"\"\"\n",
        "    NN\n",
        "    \"\"\"\n",
        "    #nn = nn_grid_search(X_train, y_train, score_method='recall')\n",
        "    #print('Finished training Neural Network...')\n",
        "\n",
        "    # all models\n",
        "    models = [clf, lr, svc, gbm1]\n",
        "\n",
        "    return models"
      ],
      "metadata": {
        "id": "lMrrPjZlTNnq"
      },
      "execution_count": null,
      "outputs": []
    },
    {
      "cell_type": "code",
      "source": [
        "data = curr_table.copy()"
      ],
      "metadata": {
        "id": "r_18FYBqTRHn"
      },
      "execution_count": null,
      "outputs": []
    },
    {
      "cell_type": "code",
      "source": [
        "y = data.loc[:,'Bankrupt']\n",
        "X = data.loc[:, data.columns!='Bankrupt']\n",
        "X_train, X_test, y_train, y_test = upsampling_minority(X, y)"
      ],
      "metadata": {
        "colab": {
          "base_uri": "https://localhost:8080/"
        },
        "id": "YKR4y9Mcl1P0",
        "outputId": "9fcb7a3c-f12f-46b4-a6f1-352325a18cf9"
      },
      "execution_count": null,
      "outputs": [
        {
          "output_type": "stream",
          "name": "stdout",
          "text": [
            "Before upsampling: training data shape (3613, 64) test data shape (1205, 64)\n",
            "Unbalanced training data{'Not Bankrupt': 3399, 'Bankrupt': 214}\n",
            "Finished upsampling: training data shape (6798, 64) test data shape (1205, 64)\n",
            "Balanced training data {'Not Bankrupt': 3399, 'Bankrupt': 3399}\n"
          ]
        }
      ]
    },
    {
      "cell_type": "code",
      "source": [
        "mymodels = MyModel(X_train, y_train)"
      ],
      "metadata": {
        "colab": {
          "base_uri": "https://localhost:8080/",
          "height": 1000
        },
        "id": "eeQcWM0zmUTN",
        "outputId": "38211f2b-077d-422b-a477-ec271c6f988b"
      },
      "execution_count": null,
      "outputs": [
        {
          "output_type": "stream",
          "name": "stdout",
          "text": [
            "Finished training Naive Bayes...\n"
          ]
        },
        {
          "output_type": "stream",
          "name": "stderr",
          "text": [
            "/usr/local/lib/python3.10/dist-packages/sklearn/linear_model/_logistic.py:458: ConvergenceWarning: lbfgs failed to converge (status=1):\n",
            "STOP: TOTAL NO. of ITERATIONS REACHED LIMIT.\n",
            "\n",
            "Increase the number of iterations (max_iter) or scale the data as shown in:\n",
            "    https://scikit-learn.org/stable/modules/preprocessing.html\n",
            "Please also refer to the documentation for alternative solver options:\n",
            "    https://scikit-learn.org/stable/modules/linear_model.html#logistic-regression\n",
            "  n_iter_i = _check_optimize_result(\n"
          ]
        },
        {
          "output_type": "stream",
          "name": "stdout",
          "text": [
            "Finished training Logistic Regression...\n",
            "Finished training Support Vector Machine...\n",
            "Best parameters:  {'max_depth': 5, 'n_estimators': 100}\n"
          ]
        },
        {
          "output_type": "display_data",
          "data": {
            "text/plain": [
              "<Figure size 1200x700 with 1 Axes>"
            ],
            "image/png": "[encoded data removed]"
          },
          "metadata": {}
        },
        {
          "output_type": "stream",
          "name": "stdout",
          "text": [
            "Best parameters:  {'min_samples_leaf': 10, 'min_samples_split': 30}\n"
          ]
        },
        {
          "output_type": "display_data",
          "data": {
            "text/plain": [
              "<Figure size 1200x700 with 1 Axes>"
            ],
            "image/png": "[encoded data removed]"
          },
          "metadata": {}
        },
        {
          "output_type": "stream",
          "name": "stdout",
          "text": [
            "Best score:  0.9814649571168674\n",
            "Best parameters:  {'learning_rate': 0.1, 'n_estimators': 100}\n",
            "Show Feature Importance:\n",
            "\n"
          ]
        },
        {
          "output_type": "display_data",
          "data": {
            "text/plain": [
              "<Figure size 1200x700 with 1 Axes>"
            ],
            "image/png": "[encoded data removed]"
          },
          "metadata": {}
        },
        {
          "output_type": "stream",
          "name": "stdout",
          "text": [
            "Finished training Gradient Boosting...\n"
          ]
        }
      ]
    },
    {
      "cell_type": "code",
      "source": [
        "feat_imp = pd.Series(data=gbm1.feature_importances_, index=predictors).sort_values(ascending=False)\n",
        "plt.figure()\n",
        "feat_imp.plot(kind='bar', title='Feature Importances')\n",
        "plt.ylabel('Feature Importance Score')\n",
        "plt.show()"
      ],
      "metadata": {
        "colab": {
          "base_uri": "https://localhost:8080/",
          "height": 211
        },
        "id": "9VBOzSoB9KGu",
        "outputId": "b5f3e164-a63a-4b55-f95a-31add393a9bd"
      },
      "execution_count": null,
      "outputs": [
        {
          "output_type": "error",
          "ename": "NameError",
          "evalue": "name 'gbm1' is not defined",
          "traceback": [
            "\u001b[0;31m---------------------------------------------------------------------------\u001b[0m",
            "\u001b[0;31mNameError\u001b[0m                                 Traceback (most recent call last)",
            "\u001b[0;32m<ipython-input-33-9552c4e787f4>\u001b[0m in \u001b[0;36m<cell line: 1>\u001b[0;34m()\u001b[0m\n\u001b[0;32m----> 1\u001b[0;31m \u001b[0mfeat_imp\u001b[0m \u001b[0;34m=\u001b[0m \u001b[0mpd\u001b[0m\u001b[0;34m.\u001b[0m\u001b[0mSeries\u001b[0m\u001b[0;34m(\u001b[0m\u001b[0mdata\u001b[0m\u001b[0;34m=\u001b[0m\u001b[0mgbm1\u001b[0m\u001b[0;34m.\u001b[0m\u001b[0mfeature_importances_\u001b[0m\u001b[0;34m,\u001b[0m \u001b[0mindex\u001b[0m\u001b[0;34m=\u001b[0m\u001b[0mpredictors\u001b[0m\u001b[0;34m)\u001b[0m\u001b[0;34m.\u001b[0m\u001b[0msort_values\u001b[0m\u001b[0;34m(\u001b[0m\u001b[0mascending\u001b[0m\u001b[0;34m=\u001b[0m\u001b[0;32mFalse\u001b[0m\u001b[0;34m)\u001b[0m\u001b[0;34m\u001b[0m\u001b[0;34m\u001b[0m\u001b[0m\n\u001b[0m\u001b[1;32m      2\u001b[0m \u001b[0mplt\u001b[0m\u001b[0;34m.\u001b[0m\u001b[0mfigure\u001b[0m\u001b[0;34m(\u001b[0m\u001b[0;34m)\u001b[0m\u001b[0;34m\u001b[0m\u001b[0;34m\u001b[0m\u001b[0m\n\u001b[1;32m      3\u001b[0m \u001b[0mfeat_imp\u001b[0m\u001b[0;34m.\u001b[0m\u001b[0mplot\u001b[0m\u001b[0;34m(\u001b[0m\u001b[0mkind\u001b[0m\u001b[0;34m=\u001b[0m\u001b[0;34m'bar'\u001b[0m\u001b[0;34m,\u001b[0m \u001b[0mtitle\u001b[0m\u001b[0;34m=\u001b[0m\u001b[0;34m'Feature Importances'\u001b[0m\u001b[0;34m)\u001b[0m\u001b[0;34m\u001b[0m\u001b[0;34m\u001b[0m\u001b[0m\n\u001b[1;32m      4\u001b[0m \u001b[0mplt\u001b[0m\u001b[0;34m.\u001b[0m\u001b[0mylabel\u001b[0m\u001b[0;34m(\u001b[0m\u001b[0;34m'Feature Importance Score'\u001b[0m\u001b[0;34m)\u001b[0m\u001b[0;34m\u001b[0m\u001b[0;34m\u001b[0m\u001b[0m\n\u001b[1;32m      5\u001b[0m \u001b[0mplt\u001b[0m\u001b[0;34m.\u001b[0m\u001b[0mshow\u001b[0m\u001b[0;34m(\u001b[0m\u001b[0;34m)\u001b[0m\u001b[0;34m\u001b[0m\u001b[0;34m\u001b[0m\u001b[0m\n",
            "\u001b[0;31mNameError\u001b[0m: name 'gbm1' is not defined"
          ]
        }
      ]
    },
    {
      "cell_type": "code",
      "source": [
        "def CompareModels(models, curve, show_plots=True, X_test=X_test, y_test=y_test):\n",
        "    final_report = pd.DataFrame(index=['clf', 'lr', 'svc', 'gbm'],\n",
        "                            columns=['accuracy', 'precision', 'recall', 'f1',  'f1_macro'])\n",
        "\n",
        "    for i in range(len(models)):\n",
        "        model = models[i]\n",
        "        name = final_report.index[i]\n",
        "        report = pd.DataFrame(classification_report(y_test, model.predict(X_test), output_dict=True)).transpose()\n",
        "        final_report.loc[name, :] = [report.loc['accuracy', 'support'],\n",
        "                                 report.loc['1', 'precision'],\n",
        "                                 report.loc['1', 'recall'],\n",
        "                                 report.loc['1', 'f1-score'],\n",
        "                                 report.loc['macro avg', 'f1-score']]\n",
        "\n",
        "    print(\"Model Comparison Report:\\n\", final_report)\n",
        "\n",
        "\n",
        "    def plot_curve(model, model_name, marker, decision_function, curve):\n",
        "        if decision_function:\n",
        "            precision, recall, thresholds = curve(y_test, model.decision_function(X_test))\n",
        "            close = np.argmin(np.abs(thresholds))\n",
        "        else:\n",
        "            precision, recall, thresholds = curve(y_test, model.predict_proba(X_test)[:,1])\n",
        "            close = np.argmin(np.abs(thresholds - 0.5))\n",
        "\n",
        "        plt.plot(precision, recall, label=model_name)\n",
        "        plt.plot(precision[close], recall[close], marker, c='k', markersize=10,\n",
        "                label=\"threshold \"+model_name, fillstyle='none', mew=2)\n",
        "\n",
        "    # roc_auc plot\n",
        "    if show_plots:\n",
        "        plt.figure()\n",
        "        plt.title('Curve')\n",
        "        plot_curve(models[1], 'lr', 'o', False, curve)\n",
        "        plot_curve(models[2], 'svc', '^', True, curve)\n",
        "        plot_curve(models[3], 'gbm', 'D', False, curve)\n",
        "        #plot_curve(models[4], 'nn', '*', False, curve)\n",
        "        plt.legend()\n",
        "        plt.show()\n"
      ],
      "metadata": {
        "id": "aTHj9I8u9ndq"
      },
      "execution_count": null,
      "outputs": []
    },
    {
      "cell_type": "code",
      "source": [
        "CompareModels(mymodels, roc_curve)"
      ],
      "metadata": {
        "colab": {
          "base_uri": "https://localhost:8080/",
          "height": 649
        },
        "id": "Q5Q5DqY59r4I",
        "outputId": "39719b03-3863-43d9-fc51-0e36ea43a716"
      },
      "execution_count": null,
      "outputs": [
        {
          "output_type": "stream",
          "name": "stdout",
          "text": [
            "Model Comparison Report:\n",
            "      accuracy precision    recall        f1  f1_macro\n",
            "clf  0.902075  0.166667   0.06383  0.092308  0.520277\n",
            "lr   0.891286  0.330275  0.382979   0.35468  0.647662\n",
            "svc  0.857261      0.25  0.414894     0.312  0.616185\n",
            "gbm  0.915353  0.462264  0.521277      0.49  0.721923\n"
          ]
        },
        {
          "output_type": "display_data",
          "data": {
            "text/plain": [
              "<Figure size 1200x700 with 1 Axes>"
            ],
            "image/png": "[encoded data removed]"
          },
          "metadata": {}
        }
      ]
    },
    {
      "cell_type": "code",
      "source": [
        "mymodels[-1]"
      ],
      "metadata": {
        "colab": {
          "base_uri": "https://localhost:8080/",
          "height": 91
        },
        "id": "zV9pd5dXP6Ac",
        "outputId": "d0b5a3e3-e32d-4e6f-9ae0-7d0b6c4bbf2c"
      },
      "execution_count": null,
      "outputs": [
        {
          "output_type": "execute_result",
          "data": {
            "text/plain": [
              "GradientBoostingClassifier(max_depth=5, min_samples_leaf=10,\n",
              "                           min_samples_split=30, random_state=10)"
            ],
            "text/html": [
              "<style>#sk-container-id-1 {color: black;background-color: white;}#sk-container-id-1 pre{padding: 0;}#sk-container-id-1 div.sk-toggleable {background-color: white;}#sk-container-id-1 label.sk-toggleable__label {cursor: pointer;display: block;width: 100%;margin-bottom: 0;padding: 0.3em;box-sizing: border-box;text-align: center;}#sk-container-id-1 label.sk-toggleable__label-arrow:before {content: \"▸\";float: left;margin-right: 0.25em;color: #696969;}#sk-container-id-1 label.sk-toggleable__label-arrow:hover:before {color: black;}#sk-container-id-1 div.sk-estimator:hover label.sk-toggleable__label-arrow:before {color: black;}#sk-container-id-1 div.sk-toggleable__content {max-height: 0;max-width: 0;overflow: hidden;text-align: left;background-color: #f0f8ff;}#sk-container-id-1 div.sk-toggleable__content pre {margin: 0.2em;color: black;border-radius: 0.25em;background-color: #f0f8ff;}#sk-container-id-1 input.sk-toggleable__control:checked~div.sk-toggleable__content {max-height: 200px;max-width: 100%;overflow: auto;}#sk-container-id-1 input.sk-toggleable__control:checked~label.sk-toggleable__label-arrow:before {content: \"▾\";}#sk-container-id-1 div.sk-estimator input.sk-toggleable__control:checked~label.sk-toggleable__label {background-color: #d4ebff;}#sk-container-id-1 div.sk-label input.sk-toggleable__control:checked~label.sk-toggleable__label {background-color: #d4ebff;}#sk-container-id-1 input.sk-hidden--visually {border: 0;clip: rect(1px 1px 1px 1px);clip: rect(1px, 1px, 1px, 1px);height: 1px;margin: -1px;overflow: hidden;padding: 0;position: absolute;width: 1px;}#sk-container-id-1 div.sk-estimator {font-family: monospace;background-color: #f0f8ff;border: 1px dotted black;border-radius: 0.25em;box-sizing: border-box;margin-bottom: 0.5em;}#sk-container-id-1 div.sk-estimator:hover {background-color: #d4ebff;}#sk-container-id-1 div.sk-parallel-item::after {content: \"\";width: 100%;border-bottom: 1px solid gray;flex-grow: 1;}#sk-container-id-1 div.sk-label:hover label.sk-toggleable__label {background-color: #d4ebff;}#sk-container-id-1 div.sk-serial::before {content: \"\";position: absolute;border-left: 1px solid gray;box-sizing: border-box;top: 0;bottom: 0;left: 50%;z-index: 0;}#sk-container-id-1 div.sk-serial {display: flex;flex-direction: column;align-items: center;background-color: white;padding-right: 0.2em;padding-left: 0.2em;position: relative;}#sk-container-id-1 div.sk-item {position: relative;z-index: 1;}#sk-container-id-1 div.sk-parallel {display: flex;align-items: stretch;justify-content: center;background-color: white;position: relative;}#sk-container-id-1 div.sk-item::before, #sk-container-id-1 div.sk-parallel-item::before {content: \"\";position: absolute;border-left: 1px solid gray;box-sizing: border-box;top: 0;bottom: 0;left: 50%;z-index: -1;}#sk-container-id-1 div.sk-parallel-item {display: flex;flex-direction: column;z-index: 1;position: relative;background-color: white;}#sk-container-id-1 div.sk-parallel-item:first-child::after {align-self: flex-end;width: 50%;}#sk-container-id-1 div.sk-parallel-item:last-child::after {align-self: flex-start;width: 50%;}#sk-container-id-1 div.sk-parallel-item:only-child::after {width: 0;}#sk-container-id-1 div.sk-dashed-wrapped {border: 1px dashed gray;margin: 0 0.4em 0.5em 0.4em;box-sizing: border-box;padding-bottom: 0.4em;background-color: white;}#sk-container-id-1 div.sk-label label {font-family: monospace;font-weight: bold;display: inline-block;line-height: 1.2em;}#sk-container-id-1 div.sk-label-container {text-align: center;}#sk-container-id-1 div.sk-container {/* jupyter's `normalize.less` sets `[hidden] { display: none; }` but bootstrap.min.css set `[hidden] { display: none !important; }` so we also need the `!important` here to be able to override the default hidden behavior on the sphinx rendered scikit-learn.org. See: https://github.com/scikit-learn/scikit-learn/issues/21755 */display: inline-block !important;position: relative;}#sk-container-id-1 div.sk-text-repr-fallback {display: none;}</style><div id=\"sk-container-id-1\" class=\"sk-top-container\"><div class=\"sk-text-repr-fallback\"><pre>GradientBoostingClassifier(max_depth=5, min_samples_leaf=10,\n",
              "                           min_samples_split=30, random_state=10)</pre><b>In a Jupyter environment, please rerun this cell to show the HTML representation or trust the notebook. <br />On GitHub, the HTML representation is unable to render, please try loading this page with nbviewer.org.</b></div><div class=\"sk-container\" hidden><div class=\"sk-item\"><div class=\"sk-estimator sk-toggleable\"><input class=\"sk-toggleable__control sk-hidden--visually\" id=\"sk-estimator-id-1\" type=\"checkbox\" checked><label for=\"sk-estimator-id-1\" class=\"sk-toggleable__label sk-toggleable__label-arrow\">GradientBoostingClassifier</label><div class=\"sk-toggleable__content\"><pre>GradientBoostingClassifier(max_depth=5, min_samples_leaf=10,\n",
              "                           min_samples_split=30, random_state=10)</pre></div></div></div></div></div>"
            ]
          },
          "metadata": {},
          "execution_count": 38
        }
      ]
    },
    {
      "cell_type": "code",
      "source": [
        "gbm_model = mymodels[-1]\n",
        "\n",
        "# Compute probabilities of bankruptcy using the GBM model\n",
        "bankruptcy_probabilities = gbm_model.predict_proba(X_test)[:, 1]  # Get the probability of being 'Bankrupt'\n",
        "\n",
        "# If you want to attach these probabilities back to your test dataset for easier interpretation:\n",
        "X_test_with_prob = X_test.copy()\n",
        "X_test_with_prob['Bankruptcy_Probability'] = bankruptcy_probabilities\n",
        "\n",
        "# Display the first few rows to verify\n",
        "print(X_test_with_prob.head())"
      ],
      "metadata": {
        "colab": {
          "base_uri": "https://localhost:8080/"
        },
        "id": "9Mm-KE3SQUIQ",
        "outputId": "094bdba3-b100-4466-9ac3-a439370709d9"
      },
      "execution_count": null,
      "outputs": [
        {
          "output_type": "stream",
          "name": "stdout",
          "text": [
            "            X1        X2       X3      X4        X5        X6        X7  \\\n",
            "Id                                                                        \n",
            "4616  0.298850  0.720710  0.39629  3.1584   31.5060 -0.310720  0.353320   \n",
            "1404  0.007381  0.456790  0.21947  1.4805    6.4083  0.000000  0.009113   \n",
            "5518 -0.030892  0.909150  0.00681  1.0075 -107.2600  0.000000 -0.030892   \n",
            "3657  0.100240  0.385350  0.45721  2.1875   -6.1659  0.000000  0.119320   \n",
            "1952  0.070016  0.073127  0.49647  7.7976  167.4300  0.038322  0.073830   \n",
            "\n",
            "             X8      X9       X10  ...       X56       X57      X58       X59  \\\n",
            "Id                                 ...                                          \n",
            "4616   0.387520  2.9864  0.279290  ...  0.155120  1.070000  0.88182  1.841800   \n",
            "1404   1.189200  1.3505  0.543210  ...  0.006549  0.013588  0.99326  0.000000   \n",
            "5518   0.099933  1.3307  0.090853  ...  0.320920 -0.340030  0.71193  0.000000   \n",
            "3657   1.595000  1.8326  0.614650  ...  0.070683  0.163080  0.93611  0.000184   \n",
            "1952  11.710000  1.0392  0.856300  ...  0.037697  0.081766  0.96230  0.000106   \n",
            "\n",
            "          X60      X61      X62      X63      X64  Bankruptcy_Probability  \n",
            "Id                                                                         \n",
            "4616  16.0920  13.6630   22.440  16.2660   7.1084                0.480089  \n",
            "1404   7.1321   2.9083  123.450   2.9566   4.1716                0.025283  \n",
            "5518   7.9094   1.9078  249.360   1.4637  15.8340                0.047378  \n",
            "3657   4.7451   9.1597   76.687   4.7596  11.6170                0.137093  \n",
            "1952   7.0983   8.4963   31.703  11.5130   1.9533                0.054923  \n",
            "\n",
            "[5 rows x 65 columns]\n"
          ]
        }
      ]
    },
    {
      "cell_type": "code",
      "source": [
        "X_train.shape"
      ],
      "metadata": {
        "colab": {
          "base_uri": "https://localhost:8080/"
        },
        "id": "-3klKh8vQchj",
        "outputId": "412fb3f0-b7cc-43b7-8662-e9fda0290684"
      },
      "execution_count": null,
      "outputs": [
        {
          "output_type": "execute_result",
          "data": {
            "text/plain": [
              "(6798, 64)"
            ]
          },
          "metadata": {},
          "execution_count": 19
        }
      ]
    },
    {
      "cell_type": "code",
      "source": [
        "from sklearn.decomposition import PCA\n",
        "from sklearn.preprocessing import StandardScaler\n",
        "import numpy as np\n",
        "import pandas as pd\n",
        "\n",
        "# Standardize the training data\n",
        "scaler = StandardScaler()\n",
        "X_scaled = scaler.fit_transform(X_train)\n",
        "\n",
        "# Fit PCA on the standardized training data\n",
        "pca = PCA(n_components=0.95) # Retain 95% of the variance\n",
        "X_pca = pca.fit_transform(X_scaled)\n",
        "\n",
        "# Generate new samples in the PCA space\n",
        "num_samples = 36\n",
        "new_samples_pca = np.random.randn(num_samples, X_pca.shape[1])\n",
        "\n",
        "# Inverse transform to get back to the original feature space\n",
        "new_samples_original_space = pca.inverse_transform(new_samples_pca)\n",
        "new_samples = scaler.inverse_transform(new_samples_original_space)\n",
        "\n",
        "# Create a DataFrame for the new samples\n",
        "new_samples_df = pd.DataFrame(new_samples, columns=X_train.columns)\n",
        "\n",
        "print(new_samples_df)"
      ],
      "metadata": {
        "colab": {
          "base_uri": "https://localhost:8080/"
        },
        "id": "eK3s0GfRSqZ-",
        "outputId": "da78d83d-afbe-4ef2-ad7e-bc6cb765d8d3"
      },
      "execution_count": null,
      "outputs": [
        {
          "output_type": "stream",
          "name": "stdout",
          "text": [
            "           X1         X2        X3         X4           X5         X6  \\\n",
            "0  -11.371369   5.695184  0.069306   7.244919  2442.379416 -16.625977   \n",
            "1   -0.857922   0.311655  0.404352  17.170195   639.258274  -0.978944   \n",
            "2    5.762952  -0.203666  0.566976   3.533321  -514.070160   6.137718   \n",
            "3    2.197747  -3.550752  0.593934   3.582328 -3005.575280   6.167330   \n",
            "4   -6.083681   0.669090 -0.714593  -1.651949  -808.805336  -5.601665   \n",
            "5    7.206763  -1.083983 -0.079511  -4.757590  1280.041879   9.197915   \n",
            "6    2.421461   1.172763 -0.267102  10.626110  3021.193203   2.099697   \n",
            "7    8.458671  -6.685287  0.329974   5.336541  1100.469036  16.191450   \n",
            "8    0.195923  -2.675072  0.033008  11.634637   102.741925   3.629286   \n",
            "9   -5.080915  -1.013385 -0.183740   6.636347 -1772.102968  -3.495257   \n",
            "10   1.948368   4.055118 -0.809207 -12.388306 -1324.346516  -1.266192   \n",
            "11  -6.064515   0.886658 -0.877234  15.595946 -2061.917616  -5.963806   \n",
            "12  -0.307655  -0.572814 -0.186587  -2.736211   214.591095   1.151959   \n",
            "13  -5.903651   7.702136  0.497033  16.416343  -868.100086 -14.087309   \n",
            "14  -4.411248   7.319741 -0.222773  -7.846497  1542.683477 -11.388021   \n",
            "15   1.758467   2.953376 -0.176784  -4.409971   -71.856412  -0.492971   \n",
            "16   8.411700  -5.489820  0.326886   9.580330 -1033.897412  14.901974   \n",
            "17   6.400593  -0.981200  0.093430  -5.501098  -767.791038   8.126145   \n",
            "18  -9.454531   5.324063 -0.593682  12.994811  2358.970519 -13.759158   \n",
            "19   3.672927  -1.201348 -0.511842  -7.532652  -728.079096   5.859562   \n",
            "20   1.033641   6.025071  0.072482   3.615836  2158.229396  -4.717944   \n",
            "21  -7.331359   1.646887  0.067897  11.634026  -185.925424  -8.540026   \n",
            "22  -1.289527   1.636393 -0.274802  10.599962  -946.866907  -2.154960   \n",
            "23   4.903050  -1.721144  0.136888  -1.730016  -810.186164   7.271844   \n",
            "24   1.713044  -5.788945  0.087586   2.729676  2240.424917   8.545340   \n",
            "25   3.928973   3.613736 -0.081057  -4.213199  -873.788283   0.666184   \n",
            "26  -2.664401   3.298597 -0.182554   9.900367 -1734.510524  -5.547751   \n",
            "27   4.925318   1.431130  0.319101   6.246569   -22.285198   3.641215   \n",
            "28   3.564965   3.844294  0.127710   6.846282  -717.130007   0.036781   \n",
            "29  -7.973821   1.035745  0.672307  11.888618  1131.325426  -9.065449   \n",
            "30   6.645430  -0.691501  0.190130   5.130847  -149.857907   7.885285   \n",
            "31   0.461087  -0.037174  0.166318  11.988030 -2406.116044   1.042363   \n",
            "32  -3.462524   1.415750  0.728789  13.420098 -1653.504066  -5.189685   \n",
            "33  -4.364231   4.645817  0.079935   1.076427  2417.113233  -8.509921   \n",
            "34  -1.517264   0.372638 -0.995987   4.732225   803.988107  -0.311586   \n",
            "35 -11.440334  12.607994  0.415187  14.998701   915.808734 -24.548019   \n",
            "\n",
            "          X7         X8        X9       X10  ...            X55       X56  \\\n",
            "0  -4.433172   9.837923  0.869889  2.218217  ...   79488.042981 -0.341493   \n",
            "1  -1.154787  48.927088  1.182146  1.243349  ...   97418.799304  0.773386   \n",
            "2   4.618297  13.961772  1.205278 -2.054553  ...   75963.010938  0.138144   \n",
            "3  -2.953588  -6.325531  2.823860  3.044364  ...   -8022.565542 -0.454805   \n",
            "4  -6.036738  28.919735  1.497824  3.600638  ...  -16833.840523 -0.116355   \n",
            "5   4.045484   2.450940  3.383463 -2.339190  ...    2005.249146 -0.246647   \n",
            "6   1.245257 -20.320407  2.745919 -1.716176  ...   49313.996224 -0.063058   \n",
            "7  -0.599366   5.676150  1.492762  2.306534  ...  -65668.511044 -0.694319   \n",
            "8  -4.250354 -30.433959  1.421680  3.273459  ...  -17053.089559  0.230373   \n",
            "9  -8.297581  14.966400  2.549703  4.667010  ...     814.386684  0.461319   \n",
            "10  4.668050  11.557151  2.511563 -4.246504  ...   24671.967632 -0.078527   \n",
            "11 -7.414877  31.513895  2.126350  3.219543  ...  125867.319544  1.186641   \n",
            "12 -0.859565   3.335454  2.129919  1.602725  ...   45361.012816  0.099668   \n",
            "13  3.468340  11.420282  0.219974 -2.495882  ...  -22293.999164  0.793614   \n",
            "14  3.016494 -49.763630  1.199106 -3.385010  ...  -34092.114087 -0.126172   \n",
            "15  4.550161  15.611800  1.595765 -2.838302  ...   13595.968072  0.196868   \n",
            "16  1.114319  43.681067  1.335157  1.233042  ...  -20737.875451 -0.151447   \n",
            "17  4.725507  -1.526260  2.287605 -1.859675  ...   38309.352113 -0.387536   \n",
            "18 -3.428108  22.645939 -0.154932  1.236246  ...  -27929.403853 -1.466646   \n",
            "19  0.717106   8.989174  2.557960 -0.257713  ...   10615.509743  0.107562   \n",
            "20  7.774921  52.199940  1.809856 -5.199650  ...    3454.898430 -0.022930   \n",
            "21 -6.260831  31.220499  0.214641  3.590381  ...   75151.277250  0.216411   \n",
            "22  0.124258  35.894895  0.937380  0.090697  ...  -44779.416309  0.192232   \n",
            "23  1.486132  -3.044549  2.552859 -0.352780  ...   40539.658471  0.392643   \n",
            "24 -7.250532 -16.953857  4.042788  5.208877  ...  -58763.516992  0.109246   \n",
            "25  8.076158  29.738995  0.838737 -4.587131  ...  -18799.371369  0.186222   \n",
            "26  0.449723  20.418877  1.107772 -0.688110  ...   23280.161039  0.112194   \n",
            "27  5.384616  22.473961  2.511882 -3.142974  ...   28228.804679  0.194022   \n",
            "28  8.343440   0.421379  0.104372 -4.582486  ...  -49144.926988 -0.438864   \n",
            "29 -6.831567  17.947017  1.358761  4.827318  ...  -28356.775963  0.480236   \n",
            "30  4.302507  23.533224  1.966645 -2.258424  ...   78160.552676 -0.170316   \n",
            "31  0.356392  20.228368  0.722495  0.764009  ...  -67987.521025 -1.162166   \n",
            "32 -2.376123  36.692992  1.764565  1.877104  ...    4728.420896  0.914425   \n",
            "33  0.601321   8.430222  0.711947 -0.830264  ...  -37252.511595 -0.256227   \n",
            "34 -2.183263   3.696788  2.355146  1.076941  ...   10799.377090 -0.974188   \n",
            "35  3.832984   2.649109 -0.617988 -3.973008  ...   45543.230591  0.210577   \n",
            "\n",
            "           X57       X58        X59          X60        X61          X62  \\\n",
            "0    79.172388  1.154599  -0.620680     2.535780  -7.180826   319.300050   \n",
            "1    -3.031726  0.406450   5.644338  -871.910372  17.804266  -500.896772   \n",
            "2    83.507179  1.184797  -5.767654   608.979168  -4.277983    -6.541320   \n",
            "3    91.112036  1.538459  -1.632112  -491.052187  26.657096   785.693352   \n",
            "4     5.739589  1.070336  -2.604966   744.027635  -5.843308   714.886768   \n",
            "5    -2.331155  1.406488   0.989887   145.439201  10.084183     9.183317   \n",
            "6     5.505394  1.324393   2.081981   -21.665384 -36.298066   115.721313   \n",
            "7    55.784057  1.721653  -7.502604   168.401812 -17.170178   842.306469   \n",
            "8   -69.223603  0.764440  -4.166098  1011.712150 -20.478932  -230.103082   \n",
            "9    93.081133  0.587112   1.042241  -767.326991  23.026199  -183.364056   \n",
            "10   30.568394  1.136999  -6.033116  -453.776229  27.896431   404.791828   \n",
            "11  -38.332361 -0.034719  -4.639710   503.854021 -17.315319 -1224.068134   \n",
            "12   77.167938  0.663412  -3.295282   227.763581  62.484834   683.902646   \n",
            "13   46.475192  0.215634 -12.495125   730.623899 -38.230922  -507.472696   \n",
            "14 -109.171436  0.960092   2.095619  -161.552436  22.316653   -10.554331   \n",
            "15  -17.086143  0.828395  18.153198  -308.356384 -21.791451   132.976480   \n",
            "16   29.909385  1.358780  -3.071814   617.320757 -35.857559   531.756165   \n",
            "17   -8.933303  1.264650  12.638842   210.005303  43.147342   718.991265   \n",
            "18  -18.415573  2.137246  -3.587853    52.695193  -9.585920  1542.413194   \n",
            "19  -37.499536  1.070541   4.997911   -29.682315  37.902266   657.325587   \n",
            "20  -12.135656  1.096613  -2.133758  -575.861637  18.707438   -32.707737   \n",
            "21  -73.175244  0.874050 -14.379284  -873.720453   0.435247   243.936100   \n",
            "22  -44.808267  0.759650  -8.096392  -511.570116   1.989884   159.180786   \n",
            "23  -25.825873  0.820526  -1.867349  1277.169318  21.379260  -763.165570   \n",
            "24   18.168513  0.772127   8.635383  -454.815054  21.383199  -466.017133   \n",
            "25  108.350802  0.768041 -10.460730   331.368213   3.971692   244.983517   \n",
            "26  -27.659898  0.805351  -8.436570  -323.375001  34.376458   -16.630878   \n",
            "27   -6.077274  1.185849   0.880707    97.808235  27.247246   344.953610   \n",
            "28  -74.176099  1.467600  -5.189557   -14.502483  38.214060  1143.741222   \n",
            "29    6.732722  0.542369   3.424574   237.758005  -3.037883   -57.695552   \n",
            "30   58.587596  1.584216  -7.250095   519.622281 -28.866635   456.198669   \n",
            "31  125.144740  1.943840   3.625007   148.555528  19.005704  1988.624672   \n",
            "32   24.911434  0.515749   2.226117    32.442087   6.215543  -359.794876   \n",
            "33   12.077737  1.278575  -2.042153    85.232112 -33.574823  -238.802431   \n",
            "34  -14.033326  1.603361  11.155413   651.387990  10.869552  1260.718651   \n",
            "35   -0.788402  0.645852  12.036049    28.869076 -25.429454  -284.201576   \n",
            "\n",
            "          X63          X64  \n",
            "0   42.507846  1573.441608  \n",
            "1    1.168054 -1205.970862  \n",
            "2  -16.413538 -1572.492099  \n",
            "3   28.914492  1380.481821  \n",
            "4   35.899216  -370.806921  \n",
            "5   46.275891  -257.480282  \n",
            "6   34.463101   637.441267  \n",
            "7  -25.937406 -2026.634862  \n",
            "8  -15.160262  -534.000733  \n",
            "9  -28.177668  -404.402561  \n",
            "10  -6.422386   540.246050  \n",
            "11  -1.513447   246.176222  \n",
            "12  51.889318  2514.425701  \n",
            "13  16.514596   860.380778  \n",
            "14 -26.274198   899.448442  \n",
            "15  13.435709  -101.974692  \n",
            "16  21.734605   586.844550  \n",
            "17   8.953977   839.123872  \n",
            "18   2.828552   664.964593  \n",
            "19   9.167334  -730.814527  \n",
            "20  54.529445   173.073416  \n",
            "21  22.031547  1241.704577  \n",
            "22  42.395437   268.507455  \n",
            "23 -13.548646   746.826046  \n",
            "24   7.905734  -249.226646  \n",
            "25 -65.777649  -380.542252  \n",
            "26   0.710334 -1384.816333  \n",
            "27  26.908748  1741.738705  \n",
            "28  42.761260  1602.377651  \n",
            "29  16.517391 -1192.892537  \n",
            "30  44.777567   102.499960  \n",
            "31   4.382669   356.850637  \n",
            "32  36.935427  2447.407126  \n",
            "33  11.681591  1376.251915  \n",
            "34  59.390810 -1386.938102  \n",
            "35  28.063330    21.380932  \n",
            "\n",
            "[36 rows x 64 columns]\n"
          ]
        }
      ]
    },
    {
      "cell_type": "code",
      "source": [
        "gbm_model = mymodels[-1]\n",
        "\n",
        "# Compute probabilities of bankruptcy using the GBM model\n",
        "bankruptcy_probabilities = gbm_model.predict_proba(new_samples_df)[:, 1]  # Get the probability of being 'Bankrupt'\n",
        "\n",
        "# If you want to attach these probabilities back to your test dataset for easier interpretation:\n",
        "new_samples_df_prob = new_samples_df.copy()\n",
        "new_samples_df_prob['Bankruptcy_Probability'] = bankruptcy_probabilities\n",
        "\n",
        "# Display the first few rows to verify\n",
        "print(new_samples_df_prob.head())"
      ],
      "metadata": {
        "colab": {
          "base_uri": "https://localhost:8080/"
        },
        "id": "yQ8165rJTG5L",
        "outputId": "ba8132ee-42b0-477a-8eaf-6b644a1e4bf3"
      },
      "execution_count": null,
      "outputs": [
        {
          "output_type": "stream",
          "name": "stdout",
          "text": [
            "          X1        X2        X3         X4           X5         X6        X7  \\\n",
            "0 -11.371369  5.695184  0.069306   7.244919  2442.379416 -16.625977 -4.433172   \n",
            "1  -0.857922  0.311655  0.404352  17.170195   639.258274  -0.978944 -1.154787   \n",
            "2   5.762952 -0.203666  0.566976   3.533321  -514.070160   6.137718  4.618297   \n",
            "3   2.197747 -3.550752  0.593934   3.582328 -3005.575280   6.167330 -2.953588   \n",
            "4  -6.083681  0.669090 -0.714593  -1.651949  -808.805336  -5.601665 -6.036738   \n",
            "\n",
            "          X8        X9       X10  ...       X56        X57       X58  \\\n",
            "0   9.837923  0.869889  2.218217  ... -0.341493  79.172388  1.154599   \n",
            "1  48.927088  1.182146  1.243349  ...  0.773386  -3.031726  0.406450   \n",
            "2  13.961772  1.205278 -2.054553  ...  0.138144  83.507179  1.184797   \n",
            "3  -6.325531  2.823860  3.044364  ... -0.454805  91.112036  1.538459   \n",
            "4  28.919735  1.497824  3.600638  ... -0.116355   5.739589  1.070336   \n",
            "\n",
            "        X59         X60        X61         X62        X63          X64  \\\n",
            "0 -0.620680    2.535780  -7.180826  319.300050  42.507846  1573.441608   \n",
            "1  5.644338 -871.910372  17.804266 -500.896772   1.168054 -1205.970862   \n",
            "2 -5.767654  608.979168  -4.277983   -6.541320 -16.413538 -1572.492099   \n",
            "3 -1.632112 -491.052187  26.657096  785.693352  28.914492  1380.481821   \n",
            "4 -2.604966  744.027635  -5.843308  714.886768  35.899216  -370.806921   \n",
            "\n",
            "   Bankruptcy_Probability  \n",
            "0                0.353746  \n",
            "1                0.177967  \n",
            "2                0.024215  \n",
            "3                0.025086  \n",
            "4                0.003462  \n",
            "\n",
            "[5 rows x 65 columns]\n"
          ]
        }
      ]
    },
    {
      "cell_type": "code",
      "source": [
        "import matplotlib.pyplot as plt\n",
        "\n",
        "# Assuming 'new_samples_df_prob' is your DataFrame and the last column contains the bankruptcy probabilities\n",
        "# Extracting company names from the original list for labeling purposes\n",
        "companies_list=pd.read_excel(\"Company_list.xlsx\")\n",
        "company_names = companies_list['Company'].values\n",
        "\n",
        "# Extracting bankruptcy probabilities from the last column of the DataFrame\n",
        "bankruptcy_probabilities = new_samples_df_prob.iloc[:, -1].values\n",
        "\n",
        "# Creating the plot\n",
        "plt.figure(figsize=(10, 8))  # Set the figure size as needed\n",
        "plt.barh(company_names, bankruptcy_probabilities, color='skyblue')\n",
        "plt.xlabel('Probability of Bankruptcy')\n",
        "plt.ylabel('Company')\n",
        "plt.title('Bankruptcy Probability of Companies')\n",
        "plt.grid(axis='x')  # Add a grid on the x-axis for better readability\n",
        "\n",
        "# Display the plot\n",
        "plt.tight_layout()  # Adjust the layout to make room for the labels\n",
        "plt.show()"
      ],
      "metadata": {
        "colab": {
          "base_uri": "https://localhost:8080/",
          "height": 391
        },
        "id": "uV5z1I_3UJyA",
        "outputId": "ede4bf8c-1322-47e5-b7aa-4622653a9a75"
      },
      "execution_count": null,
      "outputs": [
        {
          "output_type": "error",
          "ename": "FileNotFoundError",
          "evalue": "[Errno 2] No such file or directory: 'Company_list.xlsx'",
          "traceback": [
            "\u001b[0;31m---------------------------------------------------------------------------\u001b[0m",
            "\u001b[0;31mFileNotFoundError\u001b[0m                         Traceback (most recent call last)",
            "\u001b[0;32m<ipython-input-22-f7ff0043e0b3>\u001b[0m in \u001b[0;36m<cell line: 5>\u001b[0;34m()\u001b[0m\n\u001b[1;32m      3\u001b[0m \u001b[0;31m# Assuming 'new_samples_df_prob' is your DataFrame and the last column contains the bankruptcy probabilities\u001b[0m\u001b[0;34m\u001b[0m\u001b[0;34m\u001b[0m\u001b[0m\n\u001b[1;32m      4\u001b[0m \u001b[0;31m# Extracting company names from the original list for labeling purposes\u001b[0m\u001b[0;34m\u001b[0m\u001b[0;34m\u001b[0m\u001b[0m\n\u001b[0;32m----> 5\u001b[0;31m \u001b[0mcompanies_list\u001b[0m\u001b[0;34m=\u001b[0m\u001b[0mpd\u001b[0m\u001b[0;34m.\u001b[0m\u001b[0mread_excel\u001b[0m\u001b[0;34m(\u001b[0m\u001b[0;34m\"Company_list.xlsx\"\u001b[0m\u001b[0;34m)\u001b[0m\u001b[0;34m\u001b[0m\u001b[0;34m\u001b[0m\u001b[0m\n\u001b[0m\u001b[1;32m      6\u001b[0m \u001b[0mcompany_names\u001b[0m \u001b[0;34m=\u001b[0m \u001b[0mcompanies_list\u001b[0m\u001b[0;34m[\u001b[0m\u001b[0;34m'Company'\u001b[0m\u001b[0;34m]\u001b[0m\u001b[0;34m.\u001b[0m\u001b[0mvalues\u001b[0m\u001b[0;34m\u001b[0m\u001b[0;34m\u001b[0m\u001b[0m\n\u001b[1;32m      7\u001b[0m \u001b[0;34m\u001b[0m\u001b[0m\n",
            "\u001b[0;32m/usr/local/lib/python3.10/dist-packages/pandas/util/_decorators.py\u001b[0m in \u001b[0;36mwrapper\u001b[0;34m(*args, **kwargs)\u001b[0m\n\u001b[1;32m    209\u001b[0m                 \u001b[0;32melse\u001b[0m\u001b[0;34m:\u001b[0m\u001b[0;34m\u001b[0m\u001b[0;34m\u001b[0m\u001b[0m\n\u001b[1;32m    210\u001b[0m                     \u001b[0mkwargs\u001b[0m\u001b[0;34m[\u001b[0m\u001b[0mnew_arg_name\u001b[0m\u001b[0;34m]\u001b[0m \u001b[0;34m=\u001b[0m \u001b[0mnew_arg_value\u001b[0m\u001b[0;34m\u001b[0m\u001b[0;34m\u001b[0m\u001b[0m\n\u001b[0;32m--> 211\u001b[0;31m             \u001b[0;32mreturn\u001b[0m \u001b[0mfunc\u001b[0m\u001b[0;34m(\u001b[0m\u001b[0;34m*\u001b[0m\u001b[0margs\u001b[0m\u001b[0;34m,\u001b[0m \u001b[0;34m**\u001b[0m\u001b[0mkwargs\u001b[0m\u001b[0;34m)\u001b[0m\u001b[0;34m\u001b[0m\u001b[0;34m\u001b[0m\u001b[0m\n\u001b[0m\u001b[1;32m    212\u001b[0m \u001b[0;34m\u001b[0m\u001b[0m\n\u001b[1;32m    213\u001b[0m         \u001b[0;32mreturn\u001b[0m \u001b[0mcast\u001b[0m\u001b[0;34m(\u001b[0m\u001b[0mF\u001b[0m\u001b[0;34m,\u001b[0m \u001b[0mwrapper\u001b[0m\u001b[0;34m)\u001b[0m\u001b[0;34m\u001b[0m\u001b[0;34m\u001b[0m\u001b[0m\n",
            "\u001b[0;32m/usr/local/lib/python3.10/dist-packages/pandas/util/_decorators.py\u001b[0m in \u001b[0;36mwrapper\u001b[0;34m(*args, **kwargs)\u001b[0m\n\u001b[1;32m    329\u001b[0m                     \u001b[0mstacklevel\u001b[0m\u001b[0;34m=\u001b[0m\u001b[0mfind_stack_level\u001b[0m\u001b[0;34m(\u001b[0m\u001b[0;34m)\u001b[0m\u001b[0;34m,\u001b[0m\u001b[0;34m\u001b[0m\u001b[0;34m\u001b[0m\u001b[0m\n\u001b[1;32m    330\u001b[0m                 )\n\u001b[0;32m--> 331\u001b[0;31m             \u001b[0;32mreturn\u001b[0m \u001b[0mfunc\u001b[0m\u001b[0;34m(\u001b[0m\u001b[0;34m*\u001b[0m\u001b[0margs\u001b[0m\u001b[0;34m,\u001b[0m \u001b[0;34m**\u001b[0m\u001b[0mkwargs\u001b[0m\u001b[0;34m)\u001b[0m\u001b[0;34m\u001b[0m\u001b[0;34m\u001b[0m\u001b[0m\n\u001b[0m\u001b[1;32m    332\u001b[0m \u001b[0;34m\u001b[0m\u001b[0m\n\u001b[1;32m    333\u001b[0m         \u001b[0;31m# error: \"Callable[[VarArg(Any), KwArg(Any)], Any]\" has no\u001b[0m\u001b[0;34m\u001b[0m\u001b[0;34m\u001b[0m\u001b[0m\n",
            "\u001b[0;32m/usr/local/lib/python3.10/dist-packages/pandas/io/excel/_base.py\u001b[0m in \u001b[0;36mread_excel\u001b[0;34m(io, sheet_name, header, names, index_col, usecols, squeeze, dtype, engine, converters, true_values, false_values, skiprows, nrows, na_values, keep_default_na, na_filter, verbose, parse_dates, date_parser, thousands, decimal, comment, skipfooter, convert_float, mangle_dupe_cols, storage_options)\u001b[0m\n\u001b[1;32m    480\u001b[0m     \u001b[0;32mif\u001b[0m \u001b[0;32mnot\u001b[0m \u001b[0misinstance\u001b[0m\u001b[0;34m(\u001b[0m\u001b[0mio\u001b[0m\u001b[0;34m,\u001b[0m \u001b[0mExcelFile\u001b[0m\u001b[0;34m)\u001b[0m\u001b[0;34m:\u001b[0m\u001b[0;34m\u001b[0m\u001b[0;34m\u001b[0m\u001b[0m\n\u001b[1;32m    481\u001b[0m         \u001b[0mshould_close\u001b[0m \u001b[0;34m=\u001b[0m \u001b[0;32mTrue\u001b[0m\u001b[0;34m\u001b[0m\u001b[0;34m\u001b[0m\u001b[0m\n\u001b[0;32m--> 482\u001b[0;31m         \u001b[0mio\u001b[0m \u001b[0;34m=\u001b[0m \u001b[0mExcelFile\u001b[0m\u001b[0;34m(\u001b[0m\u001b[0mio\u001b[0m\u001b[0;34m,\u001b[0m \u001b[0mstorage_options\u001b[0m\u001b[0;34m=\u001b[0m\u001b[0mstorage_options\u001b[0m\u001b[0;34m,\u001b[0m \u001b[0mengine\u001b[0m\u001b[0;34m=\u001b[0m\u001b[0mengine\u001b[0m\u001b[0;34m)\u001b[0m\u001b[0;34m\u001b[0m\u001b[0;34m\u001b[0m\u001b[0m\n\u001b[0m\u001b[1;32m    483\u001b[0m     \u001b[0;32melif\u001b[0m \u001b[0mengine\u001b[0m \u001b[0;32mand\u001b[0m \u001b[0mengine\u001b[0m \u001b[0;34m!=\u001b[0m \u001b[0mio\u001b[0m\u001b[0;34m.\u001b[0m\u001b[0mengine\u001b[0m\u001b[0;34m:\u001b[0m\u001b[0;34m\u001b[0m\u001b[0;34m\u001b[0m\u001b[0m\n\u001b[1;32m    484\u001b[0m         raise ValueError(\n",
            "\u001b[0;32m/usr/local/lib/python3.10/dist-packages/pandas/io/excel/_base.py\u001b[0m in \u001b[0;36m__init__\u001b[0;34m(self, path_or_buffer, engine, storage_options)\u001b[0m\n\u001b[1;32m   1650\u001b[0m                 \u001b[0mext\u001b[0m \u001b[0;34m=\u001b[0m \u001b[0;34m\"xls\"\u001b[0m\u001b[0;34m\u001b[0m\u001b[0;34m\u001b[0m\u001b[0m\n\u001b[1;32m   1651\u001b[0m             \u001b[0;32melse\u001b[0m\u001b[0;34m:\u001b[0m\u001b[0;34m\u001b[0m\u001b[0;34m\u001b[0m\u001b[0m\n\u001b[0;32m-> 1652\u001b[0;31m                 ext = inspect_excel_format(\n\u001b[0m\u001b[1;32m   1653\u001b[0m                     \u001b[0mcontent_or_path\u001b[0m\u001b[0;34m=\u001b[0m\u001b[0mpath_or_buffer\u001b[0m\u001b[0;34m,\u001b[0m \u001b[0mstorage_options\u001b[0m\u001b[0;34m=\u001b[0m\u001b[0mstorage_options\u001b[0m\u001b[0;34m\u001b[0m\u001b[0;34m\u001b[0m\u001b[0m\n\u001b[1;32m   1654\u001b[0m                 )\n",
            "\u001b[0;32m/usr/local/lib/python3.10/dist-packages/pandas/io/excel/_base.py\u001b[0m in \u001b[0;36minspect_excel_format\u001b[0;34m(content_or_path, storage_options)\u001b[0m\n\u001b[1;32m   1523\u001b[0m         \u001b[0mcontent_or_path\u001b[0m \u001b[0;34m=\u001b[0m \u001b[0mBytesIO\u001b[0m\u001b[0;34m(\u001b[0m\u001b[0mcontent_or_path\u001b[0m\u001b[0;34m)\u001b[0m\u001b[0;34m\u001b[0m\u001b[0;34m\u001b[0m\u001b[0m\n\u001b[1;32m   1524\u001b[0m \u001b[0;34m\u001b[0m\u001b[0m\n\u001b[0;32m-> 1525\u001b[0;31m     with get_handle(\n\u001b[0m\u001b[1;32m   1526\u001b[0m         \u001b[0mcontent_or_path\u001b[0m\u001b[0;34m,\u001b[0m \u001b[0;34m\"rb\"\u001b[0m\u001b[0;34m,\u001b[0m \u001b[0mstorage_options\u001b[0m\u001b[0;34m=\u001b[0m\u001b[0mstorage_options\u001b[0m\u001b[0;34m,\u001b[0m \u001b[0mis_text\u001b[0m\u001b[0;34m=\u001b[0m\u001b[0;32mFalse\u001b[0m\u001b[0;34m\u001b[0m\u001b[0;34m\u001b[0m\u001b[0m\n\u001b[1;32m   1527\u001b[0m     ) as handle:\n",
            "\u001b[0;32m/usr/local/lib/python3.10/dist-packages/pandas/io/common.py\u001b[0m in \u001b[0;36mget_handle\u001b[0;34m(path_or_buf, mode, encoding, compression, memory_map, is_text, errors, storage_options)\u001b[0m\n\u001b[1;32m    863\u001b[0m         \u001b[0;32melse\u001b[0m\u001b[0;34m:\u001b[0m\u001b[0;34m\u001b[0m\u001b[0;34m\u001b[0m\u001b[0m\n\u001b[1;32m    864\u001b[0m             \u001b[0;31m# Binary mode\u001b[0m\u001b[0;34m\u001b[0m\u001b[0;34m\u001b[0m\u001b[0m\n\u001b[0;32m--> 865\u001b[0;31m             \u001b[0mhandle\u001b[0m \u001b[0;34m=\u001b[0m \u001b[0mopen\u001b[0m\u001b[0;34m(\u001b[0m\u001b[0mhandle\u001b[0m\u001b[0;34m,\u001b[0m \u001b[0mioargs\u001b[0m\u001b[0;34m.\u001b[0m\u001b[0mmode\u001b[0m\u001b[0;34m)\u001b[0m\u001b[0;34m\u001b[0m\u001b[0;34m\u001b[0m\u001b[0m\n\u001b[0m\u001b[1;32m    866\u001b[0m         \u001b[0mhandles\u001b[0m\u001b[0;34m.\u001b[0m\u001b[0mappend\u001b[0m\u001b[0;34m(\u001b[0m\u001b[0mhandle\u001b[0m\u001b[0;34m)\u001b[0m\u001b[0;34m\u001b[0m\u001b[0;34m\u001b[0m\u001b[0m\n\u001b[1;32m    867\u001b[0m \u001b[0;34m\u001b[0m\u001b[0m\n",
            "\u001b[0;31mFileNotFoundError\u001b[0m: [Errno 2] No such file or directory: 'Company_list.xlsx'"
          ]
        }
      ]
    },
    {
      "cell_type": "code",
      "source": [
        "new_samples_df_prob.to_csv(\"final36prob.csv\")"
      ],
      "metadata": {
        "id": "wdjdt9VLV2ZZ"
      },
      "execution_count": null,
      "outputs": []
    },
    {
      "cell_type": "code",
      "source": [
        "feature_importances = gbm_model.feature_importances_\n",
        "top_features_indices = np.argsort(feature_importances)[-10:]  # Indices of top features\n",
        "top_feature_names = X.columns[top_features_indices]"
      ],
      "metadata": {
        "id": "4WXo6nvunFcM"
      },
      "execution_count": null,
      "outputs": []
    },
    {
      "cell_type": "code",
      "source": [
        "top_feature_names"
      ],
      "metadata": {
        "colab": {
          "base_uri": "https://localhost:8080/"
        },
        "id": "2TH4GtJcpn8u",
        "outputId": "3eb38ebd-f2e1-4301-f335-2d7d519fb6a3"
      },
      "execution_count": null,
      "outputs": [
        {
          "output_type": "execute_result",
          "data": {
            "text/plain": [
              "Index(['X42', 'X34', 'X41', 'X25', 'X55', 'X6', 'X61', 'X27', 'X35', 'X39'], dtype='object')"
            ]
          },
          "metadata": {},
          "execution_count": 25
        }
      ]
    },
    {
      "cell_type": "code",
      "source": [
        "X_refined = X[top_feature_names]"
      ],
      "metadata": {
        "id": "kDio-thQpprW"
      },
      "execution_count": null,
      "outputs": []
    },
    {
      "cell_type": "code",
      "source": [
        "# Assuming your upsampling_minority function and MyModel function are ready to be used\n",
        "X_train_refined, X_test_refined, y_train_refined, y_test_refined = train_test_split(X_refined, y, test_size=0.2, random_state=42)\n",
        "\n",
        "# Apply upsampling to the training set\n",
        "# Correcting the function call to handle all returned values\n",
        "X_train_upsampled, X_test_unused, y_train_upsampled, y_test_unused = upsampling_minority(X_train_refined, y_train_refined)"
      ],
      "metadata": {
        "colab": {
          "base_uri": "https://localhost:8080/"
        },
        "id": "SlkxvNqaps-t",
        "outputId": "024a5f1b-54bf-429d-ee5a-804b021795e2"
      },
      "execution_count": null,
      "outputs": [
        {
          "output_type": "stream",
          "name": "stdout",
          "text": [
            "Before upsampling: training data shape (2890, 10) test data shape (964, 10)\n",
            "Unbalanced training data{'Not Bankrupt': 2703, 'Bankrupt': 187}\n",
            "Finished upsampling: training data shape (5406, 10) test data shape (964, 10)\n",
            "Balanced training data {'Not Bankrupt': 2703, 'Bankrupt': 2703}\n"
          ]
        }
      ]
    },
    {
      "cell_type": "code",
      "source": [
        "def gbm_grid_search(original_gbm, X_train, y_train, score_method, show_plots, predictors):\n",
        "\n",
        "    # tune n_estimators, max_depth\n",
        "    param_trees = {'n_estimators': [i for i in range(10, 101, 30)],\n",
        "                  'max_depth': [i for i in range(2,6,1)]}\n",
        "    gsearch1 = GridSearchCV(estimator = original_gbm,\n",
        "                            param_grid = param_trees,\n",
        "                            scoring=score_method,\n",
        "                            n_jobs=-1,\n",
        "\n",
        "                            cv=5\n",
        "                           )\n",
        "    gsearch1.fit(X_train, y_train)\n",
        "    if show_plots:\n",
        "        print('Best parameters: ', gsearch1.best_params_)\n",
        "        plot_heatmap(gsearch1, param_trees)\n",
        "\n",
        "    # tune min_samples_split, min_samples_leaf\n",
        "    param_tree2 = {'min_samples_split': [i for i in range(10,51,20)],\n",
        "                  'min_samples_leaf': [i for i in range(10,51,20)]}\n",
        "    gsearch2 = GridSearchCV(estimator = gsearch1.best_estimator_,\n",
        "                            param_grid = param_tree2,\n",
        "                            scoring=score_method,\n",
        "                            n_jobs=-1,\n",
        "\n",
        "                            cv=5)\n",
        "    gsearch2.fit(X_train, y_train)\n",
        "    if show_plots:\n",
        "        print('Best parameters: ', gsearch2.best_params_)\n",
        "        plot_heatmap(gsearch2, param_tree2)\n",
        "\n",
        "    # tune learning_rate\n",
        "    n_estimator = gsearch1.best_params_['n_estimators']\n",
        "    param_tree3 = [{'learning_rate': [0.1],\n",
        "                  'n_estimators': [n_estimator]},\n",
        "                  {'learning_rate': [0.1*5],\n",
        "                  'n_estimators': [n_estimator//5]},\n",
        "                  {'learning_rate': [0.1/10],\n",
        "                  'n_estimators': [n_estimator*10]}]\n",
        "    gsearch3 = GridSearchCV(estimator = gsearch2.best_estimator_,\n",
        "                            param_grid = param_tree3,\n",
        "                            scoring=score_method,\n",
        "                            n_jobs=-1,\n",
        "\n",
        "                            cv=5)\n",
        "    gsearch3.fit(X_train, y_train)\n",
        "    print('Best score: ', gsearch3.best_score_)\n",
        "\n",
        "    # best estimator\n",
        "    gbm1 = gsearch3.best_estimator_\n",
        "\n",
        "    # plot result tree and feature importance\n",
        "    #if show_plots:\n",
        "        #print('Best parameters: ', gsearch3.best_params_)\n",
        "        #print('Show Tree:\\n')\n",
        "        #export_graphviz(gbm1.estimators_[0][0])\n",
        "        #with open(\"tree.dot\") as f:\n",
        "            #dot_graph = f.read()\n",
        "        #display(graphviz.Source(dot_graph))\n",
        "\n",
        "        #print('Show Feature Importance:\\n')\n",
        "        #feat_imp = pd.Series(data=gbm1.feature_importances_, index=predictors).sort_values(ascending=False)\n",
        "        #plt.figure()\n",
        "        #feat_imp.plot(kind='bar', title='Feature Importances')\n",
        "        #plt.ylabel('Feature Importance Score')\n",
        "        #plt.show()\n",
        "\n",
        "    return gbm1"
      ],
      "metadata": {
        "id": "9BtGeABduaRV"
      },
      "execution_count": null,
      "outputs": []
    },
    {
      "cell_type": "code",
      "source": [
        "def MyModel(X_train, y_train, show_plots=True, score_method='recall'):\n",
        "\n",
        "    \"\"\"\n",
        "    Naive Bayes\n",
        "    \"\"\"\n",
        "    clf = GaussianNB()\n",
        "    clf.fit(X_train, y_train)\n",
        "    print('Finished training Naive Bayes...')\n",
        "\n",
        "    \"\"\"\n",
        "    Logistic Regression\n",
        "    \"\"\"\n",
        "    params_logit = {'polynomialfeatures__degree': [1, 2],\n",
        "               'selectpercentile__percentile': [50, 100],\n",
        "               'logisticregression__C': [0.01, 1, 100]}\n",
        "    pipe_logit = make_pipeline(PolynomialFeatures(include_bias=False),\n",
        "                               StandardScaler(), SelectPercentile(),\n",
        "                               LogisticRegression(max_iter=1000))\n",
        "    lsearch = GridSearchCV(estimator=pipe_logit,\n",
        "                           scoring='recall',\n",
        "                           param_grid=params_logit,\n",
        "                           cv=5,\n",
        "\n",
        "                           n_jobs=-1)\n",
        "    lsearch.fit(X_train, y_train)\n",
        "    lr = lsearch.best_estimator_\n",
        "    print('Finished training Logistic Regression...')\n",
        "\n",
        "    \"\"\"\n",
        "    Support Vector Machine\n",
        "    \"\"\"\n",
        "    params_svc = [{'svc__kernel' : ['rbf'],\n",
        "             'svc__gamma' : [0.01, 0.1, 1, 10, 100],\n",
        "             'svc__C' : [0.01, 0.1, 1, 10, 100]},\n",
        "             {'svc__kernel' : ['linear'],\n",
        "             'svc__C' : [0.01, 0.1, 1, 10, 100]}]\n",
        "    pipe_svc = make_pipeline(MinMaxScaler(), SVC()) # no need for polynomialfeatures\n",
        "    ssearch = GridSearchCV(estimator=pipe_svc,\n",
        "                           scoring='recall',\n",
        "                           param_grid=params_svc,\n",
        "                           cv=5,\n",
        "\n",
        "                           n_jobs=-1)\n",
        "    ssearch.fit(X_train, y_train)\n",
        "    svc = ssearch.best_estimator_\n",
        "    print('Finished training Support Vector Machine...')\n",
        "\n",
        "    \"\"\"\n",
        "    GBM\n",
        "    \"\"\"\n",
        "    gbm0 = GradientBoostingClassifier(random_state=10)\n",
        "    gbm0.fit(X_train, y_train)\n",
        "    gbm1 = gbm_grid_search(gbm0, X_train, y_train,\n",
        "                           score_method=score_method,show_plots=show_plots, predictors = X.columns)\n",
        "    print('Finished training Gradient Boosting...')\n",
        "\n",
        "    \"\"\"\n",
        "    NN\n",
        "    \"\"\"\n",
        "    #nn = nn_grid_search(X_train, y_train, score_method='recall')\n",
        "    #print('Finished training Neural Network...')\n",
        "\n",
        "    # all models\n",
        "    models = [clf, lr, svc, gbm1]\n",
        "\n",
        "    return models"
      ],
      "metadata": {
        "id": "npM8XffMsduU"
      },
      "execution_count": null,
      "outputs": []
    },
    {
      "cell_type": "code",
      "source": [
        "models = MyModel(X_train_upsampled, y_train_upsampled)"
      ],
      "metadata": {
        "colab": {
          "base_uri": "https://localhost:8080/",
          "height": 1000
        },
        "id": "ruETx05HqJqL",
        "outputId": "e8618631-bc72-4e22-e157-21128a664245"
      },
      "execution_count": null,
      "outputs": [
        {
          "output_type": "stream",
          "name": "stdout",
          "text": [
            "Finished training Naive Bayes...\n",
            "Finished training Logistic Regression...\n",
            "Finished training Support Vector Machine...\n",
            "Best parameters:  {'max_depth': 5, 'n_estimators': 100}\n"
          ]
        },
        {
          "output_type": "display_data",
          "data": {
            "text/plain": [
              "<Figure size 1200x700 with 1 Axes>"
            ],
            "image/png": "[encoded data removed]"
          },
          "metadata": {}
        },
        {
          "output_type": "stream",
          "name": "stdout",
          "text": [
            "Best parameters:  {'min_samples_leaf': 30, 'min_samples_split': 10}\n"
          ]
        },
        {
          "output_type": "display_data",
          "data": {
            "text/plain": [
              "<Figure size 1200x700 with 1 Axes>"
            ],
            "image/png": "[encoded data removed]"
          },
          "metadata": {}
        },
        {
          "output_type": "stream",
          "name": "stdout",
          "text": [
            "Best score:  0.9507982474156226\n",
            "Finished training Gradient Boosting...\n"
          ]
        }
      ]
    },
    {
      "cell_type": "code",
      "source": [
        "CompareModels(models, roc_curve)"
      ],
      "metadata": {
        "colab": {
          "base_uri": "https://localhost:8080/",
          "height": 649
        },
        "id": "gourTdqTwpwJ",
        "outputId": "f31688f2-c6f7-4460-f696-d64c43d20be7"
      },
      "execution_count": null,
      "outputs": [
        {
          "output_type": "stream",
          "name": "stdout",
          "text": [
            "Model Comparison Report:\n",
            "      accuracy precision    recall        f1  f1_macro\n",
            "clf  0.172199  0.060427  0.910714  0.113333  0.168534\n",
            "lr   0.843361  0.212121     0.625  0.316742  0.614141\n",
            "svc   0.81639  0.183246     0.625  0.283401  0.589053\n",
            "gbm  0.921162  0.395833  0.678571       0.5  0.728604\n"
          ]
        },
        {
          "output_type": "display_data",
          "data": {
            "text/plain": [
              "<Figure size 1200x700 with 1 Axes>"
            ],
            "image/png": "[encoded data removed]"
          },
          "metadata": {}
        }
      ]
    },
    {
      "cell_type": "code",
      "source": [
        "def CompareModels(models, curve, show_plots=True, X_test=X_test_unused, y_test=y_test_unused):\n",
        "    final_report = pd.DataFrame(index=['clf', 'lr', 'svc', 'gbm'],\n",
        "                            columns=['accuracy', 'precision', 'recall', 'f1',  'f1_macro'])\n",
        "\n",
        "    for i in range(len(models)):\n",
        "        model = models[i]\n",
        "        name = final_report.index[i]\n",
        "        report = pd.DataFrame(classification_report(y_test, model.predict(X_test), output_dict=True)).transpose()\n",
        "        final_report.loc[name, :] = [report.loc['accuracy', 'support'],\n",
        "                                 report.loc['1', 'precision'],\n",
        "                                 report.loc['1', 'recall'],\n",
        "                                 report.loc['1', 'f1-score'],\n",
        "                                 report.loc['macro avg', 'f1-score']]\n",
        "\n",
        "    print(\"Model Comparison Report:\\n\", final_report)\n",
        "\n",
        "\n",
        "    def plot_curve(model, model_name, marker, decision_function, curve):\n",
        "        if decision_function:\n",
        "            precision, recall, thresholds = curve(y_test, model.decision_function(X_test))\n",
        "            close = np.argmin(np.abs(thresholds))\n",
        "        else:\n",
        "            precision, recall, thresholds = curve(y_test, model.predict_proba(X_test)[:,1])\n",
        "            close = np.argmin(np.abs(thresholds - 0.5))\n",
        "\n",
        "        plt.plot(precision, recall, label=model_name)\n",
        "        plt.plot(precision[close], recall[close], marker, c='k', markersize=10,\n",
        "                label=\"threshold \"+model_name, fillstyle='none', mew=2)\n",
        "\n",
        "    # roc_auc plot\n",
        "    if show_plots:\n",
        "        plt.figure()\n",
        "        plt.title('Curve')\n",
        "        plot_curve(models[1], 'lr', 'o', False, curve)\n",
        "        plot_curve(models[2], 'svc', '^', True, curve)\n",
        "        plot_curve(models[3], 'gbm', 'D', False, curve)\n",
        "        #plot_curve(models[4], 'nn', '*', False, curve)\n",
        "        plt.legend()\n",
        "        plt.show()\n"
      ],
      "metadata": {
        "id": "R3DxUxuyxIvV"
      },
      "execution_count": null,
      "outputs": []
    },
    {
      "cell_type": "code",
      "source": [
        "scaler = StandardScaler()\n",
        "X_scaled = scaler.fit_transform(X_train_refined)\n",
        "\n",
        "# Fit PCA on the standardized training data\n",
        "pca = PCA(n_components=0.95) # Retain 95% of the variance\n",
        "X_pca = pca.fit_transform(X_scaled)\n",
        "\n",
        "# Generate new samples in the PCA space\n",
        "num_samples = 36\n",
        "new_samples_pca = np.random.randn(num_samples, X_pca.shape[1])\n",
        "\n",
        "# Inverse transform to get back to the original feature space\n",
        "new_samples_original_space = pca.inverse_transform(new_samples_pca)\n",
        "new_samples = scaler.inverse_transform(new_samples_original_space)\n",
        "\n",
        "# Create a DataFrame for the new samples\n",
        "new_samples_df = pd.DataFrame(new_samples, columns=X_train_refined.columns)\n",
        "\n",
        "print(new_samples_df)"
      ],
      "metadata": {
        "colab": {
          "base_uri": "https://localhost:8080/"
        },
        "id": "VhEYb8L2ypMf",
        "outputId": "308cab14-55a3-409b-efce-54e96b39fb23"
      },
      "execution_count": null,
      "outputs": [
        {
          "output_type": "stream",
          "name": "stdout",
          "text": [
            "         X42        X34         X41       X25            X55         X6  \\\n",
            "0   3.540999   0.942989  -46.122290 -0.031121   57960.417116   0.316285   \n",
            "1   3.133140  15.958217   -8.073285  0.886560  108622.054279  -1.135546   \n",
            "2  -1.995541   0.805731  -23.474713  9.273659   47986.226140 -16.010358   \n",
            "3   2.557887  14.510541  150.296543  0.487191   44140.237678   0.085213   \n",
            "4   3.824028 -15.288877  137.627543 -0.961111  -17704.018388   2.278070   \n",
            "5  -4.478035  -9.062428 -179.034594  7.212139   12432.759571 -12.437722   \n",
            "6  -2.117180   4.647175  -21.888417  3.016974  -80059.405596  -5.249981   \n",
            "7  -1.574895 -17.478934  -82.478851  1.455312   59849.407765  -2.414011   \n",
            "8   2.148073  11.488669   -9.737439  1.399389   50924.453873  -1.645850   \n",
            "9   1.714396  14.580731 -247.998355  0.388549   41329.813560   0.493690   \n",
            "10 -3.607649   7.821197   85.680853  0.177011 -124131.805165   0.194581   \n",
            "11 -2.187802   1.252151   -8.537045 -2.031209    9684.548102   4.287767   \n",
            "12 -6.921302   5.458207  -21.341224 -1.741098   69696.513066   4.674343   \n",
            "13 -0.085603 -11.065078  101.512177 -4.072689   -3386.205447   7.802414   \n",
            "14  0.225557  10.149002  210.363861  2.507688  200785.581573  -2.917425   \n",
            "15 -6.153651   9.360792   40.042906 -2.955341    9028.249281   5.262460   \n",
            "16 -0.672690  18.333542  141.856665  2.742077   76850.529423  -3.240426   \n",
            "17  0.672018   1.299508   -0.658910 -1.522221  -99979.871440   3.584644   \n",
            "18 -0.694557   5.975850 -159.086227  0.062305   31819.440949   1.110013   \n",
            "19 -0.502187   0.162114  -37.632349  1.385167   -4283.114549  -1.119523   \n",
            "20 -0.170092 -18.770230 -106.332856  1.604925   -6778.143372  -2.283575   \n",
            "21  2.992428   7.510315  164.764764  0.554609  132630.332079   0.349324   \n",
            "22 -4.072156  -0.107587  123.580845 -2.503997     671.998994   4.929003   \n",
            "23 -0.137518  -1.273620   -8.392172 -1.682500  -79511.319258   3.468939   \n",
            "24 -1.773603  10.804657  -24.781690  0.326786  -32683.190847   0.177668   \n",
            "25 -1.711916   3.671623  -96.776229  0.548287  -23686.118301  -0.726519   \n",
            "26 -1.482232   5.652929    1.733593 -4.519916  -40056.281931   9.144829   \n",
            "27  3.691899   9.895801  125.042766  0.811326  -11321.741155  -1.523273   \n",
            "28 -5.410171   5.342609  183.140788  3.091639  -67966.918550  -7.144740   \n",
            "29  5.310681  -5.552931  -67.905825  3.720874   -2265.410789  -6.561703   \n",
            "30 -1.681075  -4.891525   56.131996  2.403307  -72563.471210  -4.738252   \n",
            "31 -2.587824   7.020659  -19.566748  4.919499  -46130.160953  -9.063860   \n",
            "32  4.331180  -5.972352    0.683524  1.380417  -28653.262476  -2.566562   \n",
            "33  4.654554 -10.940615  100.895849  2.316187   29926.602925  -4.508176   \n",
            "34 -2.616675   7.517487   93.545493  0.163470   18632.362699   0.429583   \n",
            "35  1.693999  11.160806   16.797822 -4.122063 -103759.441369   8.121490   \n",
            "\n",
            "           X61           X27        X35       X39  \n",
            "0    22.098513  20681.789296   0.420388 -0.827744  \n",
            "1    52.549603  -6112.620894  -0.826838 -0.114954  \n",
            "2     2.693736 -16188.869188 -13.787378  0.660608  \n",
            "3    35.043353  10001.747312   0.093577  0.913339  \n",
            "4   -10.294573   7095.489034   1.943521  0.013773  \n",
            "5     2.523781   5426.704469 -10.710932  0.741475  \n",
            "6   -20.699793  -2595.905251  -4.418760 -0.851407  \n",
            "7    41.312088  11057.202365  -1.988101  0.577173  \n",
            "8    19.277407   1932.611099  -1.407377  0.383263  \n",
            "9     1.151940  -7685.318715   0.330082  0.475377  \n",
            "10    3.995587  -1595.190745   0.201099  0.776198  \n",
            "11    4.708429 -14539.477950   3.675059 -0.132708  \n",
            "12   -0.745782 -17742.506202   3.783552  0.976420  \n",
            "13   16.314479   1085.211106   6.726742  0.190710  \n",
            "14  -28.849112   7158.597287  -2.687502 -1.154888  \n",
            "15   23.086854 -11069.214216   4.716716 -1.499594  \n",
            "16   14.168187  -3485.465779  -2.966869  1.647461  \n",
            "17  -32.638072   9471.144654   3.011173  0.047099  \n",
            "18    0.421157  -9600.736208   0.816500  0.872176  \n",
            "19  -24.338138  16285.309583  -1.147373  0.844235  \n",
            "20  -28.995269 -14524.359455  -2.057234 -0.066340  \n",
            "21   11.036143 -13121.077235   0.176477  0.468079  \n",
            "22    9.936611  24323.433746   4.314607 -0.647172  \n",
            "23   23.805211  11183.702864   3.042178  0.982841  \n",
            "24  -21.852172  -7213.329262   0.125046 -0.507700  \n",
            "25   37.969696   6479.184072  -0.499159  0.584198  \n",
            "26    8.117133   6691.793985   7.791245  0.793750  \n",
            "27   51.321444 -37335.219390  -1.093018  0.283570  \n",
            "28  110.207947  11777.917662  -5.508989 -0.532150  \n",
            "29   -2.787303   3130.748754  -5.521665 -0.623176  \n",
            "30   18.931583 -11499.897840  -3.841676 -0.525698  \n",
            "31    8.727546   2198.024888  -7.565656 -0.978046  \n",
            "32   11.120276   3018.833961  -2.029320 -0.594899  \n",
            "33   36.757970  -8596.774753  -3.633689 -0.531113  \n",
            "34  -12.606917   5282.065355   0.368667 -0.815340  \n",
            "35    6.007372  -2162.070285   6.996773  0.588422  \n"
          ]
        }
      ]
    },
    {
      "cell_type": "code",
      "source": [
        "gbm_model = models[-1]\n",
        "\n",
        "# Compute probabilities of bankruptcy using the GBM model\n",
        "bankruptcy_probabilities = gbm_model.predict_proba(new_samples_df)[:, 1]  # Get the probability of being 'Bankrupt'\n",
        "\n",
        "# If you want to attach these probabilities back to your test dataset for easier interpretation:\n",
        "new_samples_df_prob = new_samples_df.copy()\n",
        "new_samples_df_prob['Bankruptcy_Probability'] = bankruptcy_probabilities\n",
        "\n",
        "# Display the first few rows to verify\n",
        "print(new_samples_df_prob.head())"
      ],
      "metadata": {
        "colab": {
          "base_uri": "https://localhost:8080/"
        },
        "id": "A9o-PDfiy4ZS",
        "outputId": "4680983e-0a01-4d90-ba6c-00b806203697"
      },
      "execution_count": null,
      "outputs": [
        {
          "output_type": "stream",
          "name": "stdout",
          "text": [
            "        X42        X34         X41       X25            X55         X6  \\\n",
            "0  3.540999   0.942989  -46.122290 -0.031121   57960.417116   0.316285   \n",
            "1  3.133140  15.958217   -8.073285  0.886560  108622.054279  -1.135546   \n",
            "2 -1.995541   0.805731  -23.474713  9.273659   47986.226140 -16.010358   \n",
            "3  2.557887  14.510541  150.296543  0.487191   44140.237678   0.085213   \n",
            "4  3.824028 -15.288877  137.627543 -0.961111  -17704.018388   2.278070   \n",
            "\n",
            "         X61           X27        X35       X39  Bankruptcy_Probability  \n",
            "0  22.098513  20681.789296   0.420388 -0.827744                0.819015  \n",
            "1  52.549603  -6112.620894  -0.826838 -0.114954                0.367633  \n",
            "2   2.693736 -16188.869188 -13.787378  0.660608                0.811703  \n",
            "3  35.043353  10001.747312   0.093577  0.913339                0.189108  \n",
            "4 -10.294573   7095.489034   1.943521  0.013773                0.047413  \n"
          ]
        }
      ]
    },
    {
      "cell_type": "code",
      "source": [
        "new_samples_df_prob.to_csv(\"Fin_score.csv\")"
      ],
      "metadata": {
        "id": "W6ClR06_zNng"
      },
      "execution_count": null,
      "outputs": []
    }
  ]
}